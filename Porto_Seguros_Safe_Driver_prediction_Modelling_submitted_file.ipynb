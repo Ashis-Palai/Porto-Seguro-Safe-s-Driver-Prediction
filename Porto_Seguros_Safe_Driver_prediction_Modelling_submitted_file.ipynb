{
  "cells": [
    {
      "cell_type": "markdown",
      "metadata": {
        "id": "view-in-github",
        "colab_type": "text"
      },
      "source": [
        "<a href=\"https://colab.research.google.com/github/Ashis-Palai/Porto-Seguro-Safe-s-Driver-Prediction/blob/main/Porto_Seguros_Safe_Driver_prediction_Modelling_submitted_file.ipynb\" target=\"_parent\"><img src=\"https://colab.research.google.com/assets/colab-badge.svg\" alt=\"Open In Colab\"/></a>"
      ]
    },
    {
      "cell_type": "code",
      "execution_count": null,
      "metadata": {
        "id": "pV0zbkAlmtw6"
      },
      "outputs": [],
      "source": [
        "import pandas as pd\n",
        "import numpy as np\n",
        "import warnings\n",
        "warnings.filterwarnings('ignore')\n",
        "from sklearn.model_selection import train_test_split\n",
        "from lightgbm import LGBMClassifier\n",
        "from sklearn.model_selection import StratifiedKFold\n",
        "from sklearn.model_selection import RandomizedSearchCV\n",
        "from sklearn.metrics import make_scorer\n",
        "from sklearn.metrics import roc_auc_score\n",
        "from sklearn.metrics import f1_score\n",
        "from sklearn.metrics import confusion_matrix\n",
        "import pickle\n",
        "import lightgbm as lgb\n",
        "from sklearn.model_selection import StratifiedKFold\n",
        "import random\n",
        "import decimal\n",
        "import seaborn as sn\n",
        "import pandas as pd\n",
        "import matplotlib.pyplot as plt"
      ]
    },
    {
      "cell_type": "code",
      "execution_count": null,
      "metadata": {
        "colab": {
          "base_uri": "https://localhost:8080/"
        },
        "id": "kp5-mptPm2IP",
        "outputId": "16b78526-12e8-4deb-85a5-853e53c8b882"
      },
      "outputs": [
        {
          "output_type": "stream",
          "name": "stdout",
          "text": [
            "Shape of train data set is : (595212, 59)\n",
            "Shape of test data set is : (892816, 58)\n"
          ]
        }
      ],
      "source": [
        "train_data=pd.read_csv('/content/drive/MyDrive/train.csv')\n",
        "test_data=pd.read_csv('/content/drive/MyDrive/test.csv')\n",
        "print('Shape of train data set is :',train_data.shape)\n",
        "print('Shape of test data set is :',test_data.shape)"
      ]
    },
    {
      "cell_type": "code",
      "execution_count": null,
      "metadata": {
        "id": "lLg2CuACnnbk",
        "colab": {
          "base_uri": "https://localhost:8080/"
        },
        "outputId": "4405f190-9187-49eb-e143-dae734a6666c"
      },
      "outputs": [
        {
          "output_type": "stream",
          "name": "stdout",
          "text": [
            "Train Input Shape (595212, 57)\n",
            "Train Output Shape (595212,)\n"
          ]
        }
      ],
      "source": [
        "train_data.head()\n",
        "X=train_data.drop(['id','target'],axis=1)\n",
        "Y=train_data['target']\n",
        "print('Train Input Shape',X.shape)\n",
        "print('Train Output Shape',Y.shape)"
      ]
    },
    {
      "cell_type": "markdown",
      "source": [
        "## **1.Important Features as Per Feature Engineering:**"
      ],
      "metadata": {
        "id": "el6cNyOmgF12"
      }
    },
    {
      "cell_type": "code",
      "source": [
        "from google.colab import drive\n",
        "drive.mount('/content/drive')"
      ],
      "metadata": {
        "colab": {
          "base_uri": "https://localhost:8080/"
        },
        "id": "0bY4AAejWS1B",
        "outputId": "8c5e747f-8843-493d-b3a0-ba2fd2c6b733"
      },
      "execution_count": null,
      "outputs": [
        {
          "output_type": "stream",
          "name": "stdout",
          "text": [
            "Drive already mounted at /content/drive; to attempt to forcibly remount, call drive.mount(\"/content/drive\", force_remount=True).\n"
          ]
        }
      ]
    },
    {
      "cell_type": "code",
      "execution_count": null,
      "metadata": {
        "colab": {
          "base_uri": "https://localhost:8080/"
        },
        "id": "lCVztplcnvn8",
        "outputId": "16eca75e-1a30-46e8-8790-6f7cb611ade7"
      },
      "outputs": [
        {
          "output_type": "stream",
          "name": "stdout",
          "text": [
            "length of final list of features is : 28\n"
          ]
        }
      ],
      "source": [
        "# Calc Features are dropped as per domain knowledge and kaggle discussion\n",
        "Top_Features_wrapper= ['ps_ind_01', 'ps_ind_02_cat', 'ps_ind_03', 'ps_ind_04_cat', 'ps_ind_05_cat', 'ps_ind_06_bin', 'ps_ind_07_bin', 'ps_ind_08_bin', 'ps_ind_09_bin', 'ps_ind_15', 'ps_reg_01', 'ps_reg_02', 'ps_car_01_cat', 'ps_car_06_cat', 'ps_car_08_cat', 'ps_car_09_cat', 'ps_car_11_cat', 'ps_car_12', 'ps_car_13', 'ps_car_15']\n",
        "Top_Features_ANOVA= ['ps_ind_15', 'ps_reg_01', 'ps_reg_02', 'ps_car_12', 'ps_car_13','ps_car_15']\n",
        "Top_Features_MI= ['ps_ind_02_cat', 'ps_ind_04_cat', 'ps_ind_05_cat', 'ps_ind_06_bin','ps_ind_07_bin', 'ps_ind_08_bin', 'ps_ind_09_bin', 'ps_ind_12_bin','ps_ind_16_bin', 'ps_ind_17_bin', 'ps_ind_18_bin', 'ps_car_01_cat','ps_car_02_cat', 'ps_car_04_cat', 'ps_car_06_cat', 'ps_car_07_cat','ps_car_08_cat', 'ps_car_09_cat', 'ps_car_10_cat', 'ps_car_11_cat']\n",
        "Top_Features_Statistical=Top_Features_ANOVA+Top_Features_MI\n",
        "# Final features common to both methods\n",
        "Final_features=(list(set(set(Top_Features_wrapper) | set(Top_Features_Statistical))))\n",
        "print('length of final list of features is :',len(Final_features))\n"
      ]
    },
    {
      "cell_type": "code",
      "execution_count": null,
      "metadata": {
        "colab": {
          "base_uri": "https://localhost:8080/"
        },
        "id": "BBwkM-3Jn-ez",
        "outputId": "762f8e21-8d69-4019-b68b-99cc1d694d9e"
      },
      "outputs": [
        {
          "output_type": "stream",
          "name": "stdout",
          "text": [
            "Train Input Shape (595212, 28)\n",
            "Train Output Shape (595212,)\n"
          ]
        }
      ],
      "source": [
        "X_Train_Final=X[Final_features]\n",
        "print('Train Input Shape',X_Train_Final.shape)\n",
        "print('Train Output Shape',Y.shape)\n"
      ]
    },
    {
      "cell_type": "code",
      "execution_count": null,
      "metadata": {
        "id": "IA619oKxacmQ",
        "colab": {
          "base_uri": "https://localhost:8080/"
        },
        "outputId": "b3ab51a5-a8a9-40f6-cd5b-f8ed6333fbdd"
      },
      "outputs": [
        {
          "output_type": "stream",
          "name": "stdout",
          "text": [
            "X_train Shape (476169, 28)\n",
            "y_train Shape (476169,)\n",
            "X_test Shape (119043, 28)\n",
            "y_test Shape (119043,)\n"
          ]
        }
      ],
      "source": [
        "X_train, X_test, y_train, y_test = train_test_split(X_Train_Final,Y, test_size=0.2, random_state=42)\n",
        "print('X_train Shape',X_train.shape)\n",
        "print('y_train Shape',y_train.shape)\n",
        "print('X_test Shape',X_test.shape)\n",
        "print('y_test Shape',y_test.shape)\n",
        "\n"
      ]
    },
    {
      "cell_type": "markdown",
      "source": [
        "## **2.Evaluation Matrix Normalized Gini Coefficient:**"
      ],
      "metadata": {
        "id": "3oLZN9wjgQrk"
      }
    },
    {
      "cell_type": "code",
      "execution_count": null,
      "metadata": {
        "id": "rHzAAGscacmT"
      },
      "outputs": [],
      "source": [
        "def gini(y, pred):\n",
        "    g = np.asarray(np.c_[y, pred, np.arange(len(y)) ], dtype=np.float)\n",
        "    g = g[np.lexsort((g[:,2], -1*g[:,1]))]\n",
        "    gs = g[:,0].cumsum().sum() / g[:,0].sum()\n",
        "    gs -= (len(y) + 1) / 2.\n",
        "    return gs / len(y)\n",
        "#__________________________ \n",
        "def gini_lgb(preds, dtrain):\n",
        "    y = list(dtrain.get_label())\n",
        "    score = gini(y, preds) / gini(y, y)\n",
        "    return 'gini', score, True\n",
        "#__________________________ \n",
        "def gini_normalized(a, p):\n",
        "    return gini(a, p) / gini(a, a)"
      ]
    },
    {
      "cell_type": "markdown",
      "source": [
        "## **3.Hyper Parameter Tuning on Possible numbers :**"
      ],
      "metadata": {
        "id": "3saprr72jWH5"
      }
    },
    {
      "cell_type": "code",
      "execution_count": null,
      "metadata": {
        "scrolled": true,
        "id": "Cc0g35fXacmW"
      },
      "outputs": [],
      "source": [
        "learning_rate=[0.06,0.07,0.08,0.09,0.1,0.11,0.15,0.17,0.19,0.20,0.099,0.098,0.13]\n",
        "subsample=[0.4,0.5,0.61,0.63,0.66,0.70,0.71,0.73,0.75,0.77,0.79,0.8,0.82,0.85,0.86,0.87,0.89,0.9]\n",
        "colsample_bytree=[0.4,0.5,0.61,0.63,0.66,0.70,0.71,0.73,0.75,0.77,0.79,0.8,0.82,0.85,0.86,0.87,0.89,0.9]\n",
        "reg_alpha=[15,16,17,18,19,20,21,22,23,24,25]\n",
        "reg_lambda=[0.99,0,95,0,97,1,0,0.01,0.02,0.03,0.04,0.05,1.1,1.3,1.5,1.6]\n",
        "max_depth= [2,3, 4, 5,6,7,8,9,10,11,12,13]\n",
        "num_leaves= [10,14,15,16,17,18,1940,42,44,46,47,49,50]\n",
        "min_data_in_leaf=[30,35,40,45,50,55,65,75,85,95,105,115,125,135,145,150,165]\n",
        "\n",
        "for j in range(30):\n",
        "    results=[]\n",
        "    for i in range(10):\n",
        "        params = {'learning_rate': random.choice(learning_rate),\n",
        "                      'subsample': random.choice(subsample),\n",
        "               'colsample_bytree': random.choice(colsample_bytree),\n",
        "                      'reg_alpha': random.choice(reg_alpha),\n",
        "                     'reg_lambda': random.choice(reg_lambda),\n",
        "                     'max_depth' : random.choice(max_depth),\n",
        "                     'num_leaves': random.choice(num_leaves),        \n",
        "               'min_data_in_leaf': random.choice(min_data_in_leaf), \n",
        "                       'boosting': 'gbdt',\n",
        "                      'objective': 'binary',\n",
        "             'is_training_metric': False,\n",
        "                           'seed': 99,\n",
        "                        'verbose': -1,\n",
        "                        'n_jobs' : -1\n",
        "                  }\n",
        "        sss = StratifiedKFold(n_splits = 5, shuffle = True, random_state=i+j+15)\n",
        "        for train_index, valid_index in sss.split(X_train,y_train):\n",
        "            x_tr, x_valid = X_train.iloc[train_index], X_train.iloc[valid_index]\n",
        "            y_tr, y_valid = pd.DataFrame(y_train).iloc[train_index], pd.DataFrame(y_train).iloc[valid_index]\n",
        "            lgb_train = lgb.Dataset(x_tr, label=y_tr)\n",
        "            lgb_eval = lgb.Dataset(x_valid, label=y_valid)\n",
        "            mdl = lgb.train(params,lgb_train,valid_sets=[lgb_eval,lgb_train],verbose_eval=25, feval=gini_lgb,early_stopping_rounds=50)\n",
        "            results.append((mdl.best_score,mdl.params))\n",
        "    pd.DataFrame(results).to_csv('result_'+str(j)+'.csv')"
      ]
    },
    {
      "cell_type": "code",
      "source": [
        "import os\n",
        "for i in os.listdir('/content/Untitled Folder'):\n",
        "  score_=pd.read_csv('/content/Untitled Folder/'+i)\n",
        "  print(max([(float((i[1].split(',')[-1])[:15]),i[2]) for i in score_.values ])[0])\n",
        "  print(max([(float((i[1].split(',')[-1])[:15]),i[2]) for i in score_.values ])[1])"
      ],
      "metadata": {
        "colab": {
          "base_uri": "https://localhost:8080/"
        },
        "id": "xFNVshtbjpGo",
        "outputId": "08e10071-1579-4cdf-b3f7-6c2f9f191cc1"
      },
      "execution_count": null,
      "outputs": [
        {
          "output_type": "stream",
          "name": "stdout",
          "text": [
            "0.292527120494\n",
            "{'learning_rate': 0.08, 'subsample': 0.61, 'colsample_bytree': 0.73, 'reg_alpha': 15, 'reg_lambda': 1.3, 'max_depth': 11, 'num_leaves': 17, 'min_data_in_leaf': 95, 'boosting': 'gbdt', 'objective': 'binary', 'is_training_metric': False, 'seed': 99, 'verbose': -1, 'n_jobs': -1, 'num_iterations': 100, 'early_stopping_round': 50}\n",
            "0.293573556404\n",
            "{'learning_rate': 0.099, 'subsample': 0.7, 'colsample_bytree': 0.63, 'reg_alpha': 25, 'reg_lambda': 95, 'max_depth': 11, 'num_leaves': 49, 'min_data_in_leaf': 135, 'boosting': 'gbdt', 'objective': 'binary', 'is_training_metric': False, 'seed': 99, 'verbose': -1, 'n_jobs': -1, 'num_iterations': 100, 'early_stopping_round': 50}\n",
            "0.294765498199\n",
            "{'learning_rate': 0.19, 'subsample': 0.63, 'colsample_bytree': 0.75, 'reg_alpha': 17, 'reg_lambda': 0.01, 'max_depth': 7, 'num_leaves': 16, 'min_data_in_leaf': 75, 'boosting': 'gbdt', 'objective': 'binary', 'is_training_metric': False, 'seed': 99, 'verbose': -1, 'n_jobs': -1, 'num_iterations': 100, 'early_stopping_round': 50}\n",
            "0.292619222636\n",
            "{'learning_rate': 0.09, 'subsample': 0.8, 'colsample_bytree': 0.86, 'reg_alpha': 24, 'reg_lambda': 0.01, 'max_depth': 12, 'num_leaves': 46, 'min_data_in_leaf': 125, 'boosting': 'gbdt', 'objective': 'binary', 'is_training_metric': False, 'seed': 99, 'verbose': -1, 'n_jobs': -1, 'num_iterations': 100, 'early_stopping_round': 50}\n",
            "0.295586862171\n",
            "{'learning_rate': 0.2, 'subsample': 0.5, 'colsample_bytree': 0.63, 'reg_alpha': 15, 'reg_lambda': 0.03, 'max_depth': 13, 'num_leaves': 17, 'min_data_in_leaf': 145, 'boosting': 'gbdt', 'objective': 'binary', 'is_training_metric': False, 'seed': 99, 'verbose': -1, 'n_jobs': -1, 'num_iterations': 100, 'early_stopping_round': 50}\n",
            "0.294783346858\n",
            "{'learning_rate': 0.07, 'subsample': 0.79, 'colsample_bytree': 0.8, 'reg_alpha': 18, 'reg_lambda': 0.99, 'max_depth': 7, 'num_leaves': 50, 'min_data_in_leaf': 115, 'boosting': 'gbdt', 'objective': 'binary', 'is_training_metric': False, 'seed': 99, 'verbose': -1, 'n_jobs': -1, 'num_iterations': 100, 'early_stopping_round': 50}\n",
            "0.295194829282\n",
            "{'learning_rate': 0.2, 'subsample': 0.86, 'colsample_bytree': 0.79, 'reg_alpha': 17, 'reg_lambda': 0.99, 'max_depth': 5, 'num_leaves': 16, 'min_data_in_leaf': 35, 'boosting': 'gbdt', 'objective': 'binary', 'is_training_metric': False, 'seed': 99, 'verbose': -1, 'n_jobs': -1, 'num_iterations': 100, 'early_stopping_round': 50}\n"
          ]
        }
      ]
    },
    {
      "cell_type": "markdown",
      "source": [
        "**3.1 OBSERVATIONS:**\n",
        "\n",
        "\n",
        "*   Maximum validation Normalized gini score is **0.2951**\n",
        "*   We will try to fine tune more based on above results\n",
        "\n"
      ],
      "metadata": {
        "id": "R71vxiObwhnK"
      }
    },
    {
      "cell_type": "code",
      "execution_count": null,
      "metadata": {
        "id": "7upNyTbeacmZ",
        "outputId": "b4e764cd-7cfd-42a9-ee46-3c906ce2a602"
      },
      "outputs": [
        {
          "name": "stdout",
          "output_type": "stream",
          "text": [
            "Training until validation scores don't improve for 50 rounds\n",
            "[25]\ttraining's binary_logloss: 0.151144\ttraining's gini: 0.31322\tvalid_0's binary_logloss: 0.152145\tvalid_0's gini: 0.27845\n",
            "[50]\ttraining's binary_logloss: 0.149656\ttraining's gini: 0.344616\tvalid_0's binary_logloss: 0.151619\tvalid_0's gini: 0.28675\n",
            "[75]\ttraining's binary_logloss: 0.148561\ttraining's gini: 0.371363\tvalid_0's binary_logloss: 0.151483\tvalid_0's gini: 0.289561\n",
            "[100]\ttraining's binary_logloss: 0.147609\ttraining's gini: 0.394255\tvalid_0's binary_logloss: 0.151487\tvalid_0's gini: 0.28943\n",
            "Did not meet early stopping. Best iteration is:\n",
            "[100]\ttraining's binary_logloss: 0.147609\ttraining's gini: 0.394255\tvalid_0's binary_logloss: 0.151487\tvalid_0's gini: 0.28943\n",
            "Training until validation scores don't improve for 50 rounds\n",
            "[25]\ttraining's binary_logloss: 0.151077\ttraining's gini: 0.315061\tvalid_0's binary_logloss: 0.152452\tvalid_0's gini: 0.258776\n",
            "[50]\ttraining's binary_logloss: 0.149593\ttraining's gini: 0.346173\tvalid_0's binary_logloss: 0.152054\tvalid_0's gini: 0.265482\n",
            "[75]\ttraining's binary_logloss: 0.148515\ttraining's gini: 0.371239\tvalid_0's binary_logloss: 0.151981\tvalid_0's gini: 0.265762\n",
            "[100]\ttraining's binary_logloss: 0.14759\ttraining's gini: 0.393451\tvalid_0's binary_logloss: 0.152033\tvalid_0's gini: 0.264193\n",
            "Did not meet early stopping. Best iteration is:\n",
            "[100]\ttraining's binary_logloss: 0.14759\ttraining's gini: 0.393451\tvalid_0's binary_logloss: 0.152033\tvalid_0's gini: 0.264193\n",
            "Training until validation scores don't improve for 50 rounds\n",
            "[25]\ttraining's binary_logloss: 0.151033\ttraining's gini: 0.316523\tvalid_0's binary_logloss: 0.152606\tvalid_0's gini: 0.25451\n",
            "[50]\ttraining's binary_logloss: 0.149533\ttraining's gini: 0.347811\tvalid_0's binary_logloss: 0.152158\tvalid_0's gini: 0.264569\n",
            "[75]\ttraining's binary_logloss: 0.148458\ttraining's gini: 0.372918\tvalid_0's binary_logloss: 0.152066\tvalid_0's gini: 0.267564\n",
            "[100]\ttraining's binary_logloss: 0.147536\ttraining's gini: 0.394593\tvalid_0's binary_logloss: 0.152023\tvalid_0's gini: 0.269185\n",
            "Did not meet early stopping. Best iteration is:\n",
            "[100]\ttraining's binary_logloss: 0.147536\ttraining's gini: 0.394593\tvalid_0's binary_logloss: 0.152023\tvalid_0's gini: 0.269185\n",
            "Training until validation scores don't improve for 50 rounds\n",
            "[25]\ttraining's binary_logloss: 0.151135\ttraining's gini: 0.314527\tvalid_0's binary_logloss: 0.152201\tvalid_0's gini: 0.270633\n",
            "[50]\ttraining's binary_logloss: 0.149637\ttraining's gini: 0.345127\tvalid_0's binary_logloss: 0.151696\tvalid_0's gini: 0.279739\n",
            "[75]\ttraining's binary_logloss: 0.148571\ttraining's gini: 0.370148\tvalid_0's binary_logloss: 0.151571\tvalid_0's gini: 0.282779\n",
            "[100]\ttraining's binary_logloss: 0.147664\ttraining's gini: 0.39156\tvalid_0's binary_logloss: 0.151503\tvalid_0's gini: 0.284421\n",
            "Did not meet early stopping. Best iteration is:\n",
            "[100]\ttraining's binary_logloss: 0.147664\ttraining's gini: 0.39156\tvalid_0's binary_logloss: 0.151503\tvalid_0's gini: 0.284421\n",
            "Training until validation scores don't improve for 50 rounds\n",
            "[25]\ttraining's binary_logloss: 0.151096\ttraining's gini: 0.313251\tvalid_0's binary_logloss: 0.152454\tvalid_0's gini: 0.261954\n",
            "[50]\ttraining's binary_logloss: 0.149604\ttraining's gini: 0.344701\tvalid_0's binary_logloss: 0.152032\tvalid_0's gini: 0.270753\n",
            "[75]\ttraining's binary_logloss: 0.148491\ttraining's gini: 0.371039\tvalid_0's binary_logloss: 0.151899\tvalid_0's gini: 0.274961\n",
            "[100]\ttraining's binary_logloss: 0.147588\ttraining's gini: 0.393402\tvalid_0's binary_logloss: 0.15188\tvalid_0's gini: 0.275929\n",
            "Did not meet early stopping. Best iteration is:\n",
            "[100]\ttraining's binary_logloss: 0.147588\ttraining's gini: 0.393402\tvalid_0's binary_logloss: 0.15188\tvalid_0's gini: 0.275929\n",
            "Training until validation scores don't improve for 50 rounds\n",
            "[25]\ttraining's binary_logloss: 0.151139\ttraining's gini: 0.313739\tvalid_0's binary_logloss: 0.152227\tvalid_0's gini: 0.275015\n",
            "[50]\ttraining's binary_logloss: 0.149687\ttraining's gini: 0.342897\tvalid_0's binary_logloss: 0.151732\tvalid_0's gini: 0.281986\n",
            "[75]\ttraining's binary_logloss: 0.148654\ttraining's gini: 0.367953\tvalid_0's binary_logloss: 0.151666\tvalid_0's gini: 0.282458\n",
            "[100]\ttraining's binary_logloss: 0.147784\ttraining's gini: 0.388678\tvalid_0's binary_logloss: 0.151625\tvalid_0's gini: 0.283296\n",
            "Did not meet early stopping. Best iteration is:\n",
            "[100]\ttraining's binary_logloss: 0.147784\ttraining's gini: 0.388678\tvalid_0's binary_logloss: 0.151625\tvalid_0's gini: 0.283296\n",
            "Training until validation scores don't improve for 50 rounds\n",
            "[25]\ttraining's binary_logloss: 0.151213\ttraining's gini: 0.309314\tvalid_0's binary_logloss: 0.152272\tvalid_0's gini: 0.274354\n",
            "[50]\ttraining's binary_logloss: 0.149757\ttraining's gini: 0.340959\tvalid_0's binary_logloss: 0.151785\tvalid_0's gini: 0.282958\n",
            "[75]\ttraining's binary_logloss: 0.148687\ttraining's gini: 0.367193\tvalid_0's binary_logloss: 0.151645\tvalid_0's gini: 0.285382\n",
            "[100]\ttraining's binary_logloss: 0.147809\ttraining's gini: 0.388802\tvalid_0's binary_logloss: 0.151598\tvalid_0's gini: 0.286683\n",
            "Did not meet early stopping. Best iteration is:\n",
            "[100]\ttraining's binary_logloss: 0.147809\ttraining's gini: 0.388802\tvalid_0's binary_logloss: 0.151598\tvalid_0's gini: 0.286683\n",
            "Training until validation scores don't improve for 50 rounds\n",
            "[25]\ttraining's binary_logloss: 0.151073\ttraining's gini: 0.316598\tvalid_0's binary_logloss: 0.152481\tvalid_0's gini: 0.255266\n",
            "[50]\ttraining's binary_logloss: 0.149582\ttraining's gini: 0.34779\tvalid_0's binary_logloss: 0.152112\tvalid_0's gini: 0.261992\n",
            "[75]\ttraining's binary_logloss: 0.148475\ttraining's gini: 0.374121\tvalid_0's binary_logloss: 0.152063\tvalid_0's gini: 0.264107\n",
            "[100]\ttraining's binary_logloss: 0.147569\ttraining's gini: 0.395955\tvalid_0's binary_logloss: 0.152069\tvalid_0's gini: 0.264684\n",
            "Did not meet early stopping. Best iteration is:\n",
            "[100]\ttraining's binary_logloss: 0.147569\ttraining's gini: 0.395955\tvalid_0's binary_logloss: 0.152069\tvalid_0's gini: 0.264684\n",
            "Training until validation scores don't improve for 50 rounds\n",
            "[25]\ttraining's binary_logloss: 0.151022\ttraining's gini: 0.317434\tvalid_0's binary_logloss: 0.152742\tvalid_0's gini: 0.24722\n",
            "[50]\ttraining's binary_logloss: 0.149557\ttraining's gini: 0.34731\tvalid_0's binary_logloss: 0.152351\tvalid_0's gini: 0.25571\n",
            "[75]\ttraining's binary_logloss: 0.148492\ttraining's gini: 0.371648\tvalid_0's binary_logloss: 0.152271\tvalid_0's gini: 0.258767\n",
            "[100]\ttraining's binary_logloss: 0.147575\ttraining's gini: 0.393906\tvalid_0's binary_logloss: 0.152227\tvalid_0's gini: 0.260661\n",
            "Did not meet early stopping. Best iteration is:\n",
            "[100]\ttraining's binary_logloss: 0.147575\ttraining's gini: 0.393906\tvalid_0's binary_logloss: 0.152227\tvalid_0's gini: 0.260661\n",
            "Training until validation scores don't improve for 50 rounds\n",
            "[25]\ttraining's binary_logloss: 0.151193\ttraining's gini: 0.311824\tvalid_0's binary_logloss: 0.152143\tvalid_0's gini: 0.273769\n",
            "[50]\ttraining's binary_logloss: 0.149712\ttraining's gini: 0.342379\tvalid_0's binary_logloss: 0.151593\tvalid_0's gini: 0.284867\n",
            "[75]\ttraining's binary_logloss: 0.148616\ttraining's gini: 0.368844\tvalid_0's binary_logloss: 0.151466\tvalid_0's gini: 0.288017\n",
            "[100]\ttraining's binary_logloss: 0.147704\ttraining's gini: 0.391407\tvalid_0's binary_logloss: 0.151499\tvalid_0's gini: 0.287068\n",
            "Did not meet early stopping. Best iteration is:\n",
            "[100]\ttraining's binary_logloss: 0.147704\ttraining's gini: 0.391407\tvalid_0's binary_logloss: 0.151499\tvalid_0's gini: 0.287068\n",
            "Training until validation scores don't improve for 50 rounds\n",
            "[25]\ttraining's binary_logloss: 0.151001\ttraining's gini: 0.317586\tvalid_0's binary_logloss: 0.152523\tvalid_0's gini: 0.260472\n",
            "[50]\ttraining's binary_logloss: 0.149503\ttraining's gini: 0.348288\tvalid_0's binary_logloss: 0.152136\tvalid_0's gini: 0.267494\n",
            "[75]\ttraining's binary_logloss: 0.148462\ttraining's gini: 0.372107\tvalid_0's binary_logloss: 0.152031\tvalid_0's gini: 0.270275\n",
            "[100]\ttraining's binary_logloss: 0.147537\ttraining's gini: 0.394761\tvalid_0's binary_logloss: 0.151993\tvalid_0's gini: 0.270878\n",
            "Did not meet early stopping. Best iteration is:\n",
            "[100]\ttraining's binary_logloss: 0.147537\ttraining's gini: 0.394761\tvalid_0's binary_logloss: 0.151993\tvalid_0's gini: 0.270878\n",
            "Training until validation scores don't improve for 50 rounds\n",
            "[25]\ttraining's binary_logloss: 0.151134\ttraining's gini: 0.312831\tvalid_0's binary_logloss: 0.152302\tvalid_0's gini: 0.269168\n",
            "[50]\ttraining's binary_logloss: 0.149658\ttraining's gini: 0.344285\tvalid_0's binary_logloss: 0.151754\tvalid_0's gini: 0.280194\n",
            "[75]\ttraining's binary_logloss: 0.148517\ttraining's gini: 0.371889\tvalid_0's binary_logloss: 0.151571\tvalid_0's gini: 0.285188\n",
            "[100]\ttraining's binary_logloss: 0.147555\ttraining's gini: 0.396466\tvalid_0's binary_logloss: 0.151537\tvalid_0's gini: 0.286458\n",
            "Did not meet early stopping. Best iteration is:\n",
            "[100]\ttraining's binary_logloss: 0.147555\ttraining's gini: 0.396466\tvalid_0's binary_logloss: 0.151537\tvalid_0's gini: 0.286458\n",
            "Training until validation scores don't improve for 50 rounds\n",
            "[25]\ttraining's binary_logloss: 0.15107\ttraining's gini: 0.315033\tvalid_0's binary_logloss: 0.152347\tvalid_0's gini: 0.266415\n",
            "[50]\ttraining's binary_logloss: 0.149557\ttraining's gini: 0.346611\tvalid_0's binary_logloss: 0.151832\tvalid_0's gini: 0.277131\n",
            "[75]\ttraining's binary_logloss: 0.148477\ttraining's gini: 0.372506\tvalid_0's binary_logloss: 0.151725\tvalid_0's gini: 0.278825\n",
            "[100]\ttraining's binary_logloss: 0.147577\ttraining's gini: 0.395137\tvalid_0's binary_logloss: 0.151666\tvalid_0's gini: 0.280388\n",
            "Did not meet early stopping. Best iteration is:\n",
            "[100]\ttraining's binary_logloss: 0.147577\ttraining's gini: 0.395137\tvalid_0's binary_logloss: 0.151666\tvalid_0's gini: 0.280388\n",
            "Training until validation scores don't improve for 50 rounds\n",
            "[25]\ttraining's binary_logloss: 0.151126\ttraining's gini: 0.31373\tvalid_0's binary_logloss: 0.152103\tvalid_0's gini: 0.273443\n",
            "[50]\ttraining's binary_logloss: 0.149622\ttraining's gini: 0.346221\tvalid_0's binary_logloss: 0.151606\tvalid_0's gini: 0.281319\n",
            "[75]\ttraining's binary_logloss: 0.148522\ttraining's gini: 0.372536\tvalid_0's binary_logloss: 0.151477\tvalid_0's gini: 0.283682\n",
            "[100]\ttraining's binary_logloss: 0.14758\ttraining's gini: 0.396252\tvalid_0's binary_logloss: 0.151488\tvalid_0's gini: 0.283328\n",
            "Did not meet early stopping. Best iteration is:\n",
            "[100]\ttraining's binary_logloss: 0.14758\ttraining's gini: 0.396252\tvalid_0's binary_logloss: 0.151488\tvalid_0's gini: 0.283328\n",
            "Training until validation scores don't improve for 50 rounds\n",
            "[25]\ttraining's binary_logloss: 0.150979\ttraining's gini: 0.318838\tvalid_0's binary_logloss: 0.152413\tvalid_0's gini: 0.259692\n",
            "[50]\ttraining's binary_logloss: 0.149435\ttraining's gini: 0.351866\tvalid_0's binary_logloss: 0.152031\tvalid_0's gini: 0.266856\n",
            "[75]\ttraining's binary_logloss: 0.148362\ttraining's gini: 0.375809\tvalid_0's binary_logloss: 0.152039\tvalid_0's gini: 0.266364\n",
            "[100]\ttraining's binary_logloss: 0.147415\ttraining's gini: 0.398392\tvalid_0's binary_logloss: 0.152071\tvalid_0's gini: 0.265827\n",
            "Did not meet early stopping. Best iteration is:\n",
            "[100]\ttraining's binary_logloss: 0.147415\ttraining's gini: 0.398392\tvalid_0's binary_logloss: 0.152071\tvalid_0's gini: 0.265827\n",
            "Training until validation scores don't improve for 50 rounds\n",
            "[25]\ttraining's binary_logloss: 0.150975\ttraining's gini: 0.315615\tvalid_0's binary_logloss: 0.152769\tvalid_0's gini: 0.248548\n",
            "[50]\ttraining's binary_logloss: 0.149529\ttraining's gini: 0.345359\tvalid_0's binary_logloss: 0.152374\tvalid_0's gini: 0.259406\n",
            "[75]\ttraining's binary_logloss: 0.148476\ttraining's gini: 0.37005\tvalid_0's binary_logloss: 0.152268\tvalid_0's gini: 0.262584\n",
            "[100]\ttraining's binary_logloss: 0.147619\ttraining's gini: 0.39012\tvalid_0's binary_logloss: 0.152346\tvalid_0's gini: 0.260975\n",
            "Did not meet early stopping. Best iteration is:\n",
            "[100]\ttraining's binary_logloss: 0.147619\ttraining's gini: 0.39012\tvalid_0's binary_logloss: 0.152346\tvalid_0's gini: 0.260975\n",
            "Training until validation scores don't improve for 50 rounds\n",
            "[25]\ttraining's binary_logloss: 0.151211\ttraining's gini: 0.30844\tvalid_0's binary_logloss: 0.152285\tvalid_0's gini: 0.269461\n",
            "[50]\ttraining's binary_logloss: 0.149771\ttraining's gini: 0.339831\tvalid_0's binary_logloss: 0.15171\tvalid_0's gini: 0.280948\n",
            "[75]\ttraining's binary_logloss: 0.148743\ttraining's gini: 0.364004\tvalid_0's binary_logloss: 0.151561\tvalid_0's gini: 0.284271\n",
            "[100]\ttraining's binary_logloss: 0.147841\ttraining's gini: 0.386561\tvalid_0's binary_logloss: 0.151518\tvalid_0's gini: 0.285287\n",
            "Did not meet early stopping. Best iteration is:\n",
            "[100]\ttraining's binary_logloss: 0.147841\ttraining's gini: 0.386561\tvalid_0's binary_logloss: 0.151518\tvalid_0's gini: 0.285287\n",
            "Training until validation scores don't improve for 50 rounds\n",
            "[25]\ttraining's binary_logloss: 0.151127\ttraining's gini: 0.312872\tvalid_0's binary_logloss: 0.152435\tvalid_0's gini: 0.260366\n",
            "[50]\ttraining's binary_logloss: 0.149655\ttraining's gini: 0.344259\tvalid_0's binary_logloss: 0.152032\tvalid_0's gini: 0.268657\n",
            "[75]\ttraining's binary_logloss: 0.148634\ttraining's gini: 0.368149\tvalid_0's binary_logloss: 0.151996\tvalid_0's gini: 0.26907\n",
            "[100]\ttraining's binary_logloss: 0.147771\ttraining's gini: 0.388783\tvalid_0's binary_logloss: 0.152007\tvalid_0's gini: 0.269162\n",
            "Did not meet early stopping. Best iteration is:\n",
            "[100]\ttraining's binary_logloss: 0.147771\ttraining's gini: 0.388783\tvalid_0's binary_logloss: 0.152007\tvalid_0's gini: 0.269162\n",
            "Training until validation scores don't improve for 50 rounds\n",
            "[25]\ttraining's binary_logloss: 0.151182\ttraining's gini: 0.31153\tvalid_0's binary_logloss: 0.152148\tvalid_0's gini: 0.270211\n",
            "[50]\ttraining's binary_logloss: 0.149805\ttraining's gini: 0.339791\tvalid_0's binary_logloss: 0.151655\tvalid_0's gini: 0.279226\n",
            "[75]\ttraining's binary_logloss: 0.148798\ttraining's gini: 0.363985\tvalid_0's binary_logloss: 0.151509\tvalid_0's gini: 0.282529\n",
            "[100]\ttraining's binary_logloss: 0.147956\ttraining's gini: 0.384339\tvalid_0's binary_logloss: 0.15147\tvalid_0's gini: 0.283975\n",
            "Did not meet early stopping. Best iteration is:\n",
            "[100]\ttraining's binary_logloss: 0.147956\ttraining's gini: 0.384339\tvalid_0's binary_logloss: 0.15147\tvalid_0's gini: 0.283975\n",
            "Training until validation scores don't improve for 50 rounds\n",
            "[25]\ttraining's binary_logloss: 0.151258\ttraining's gini: 0.308754\tvalid_0's binary_logloss: 0.152015\tvalid_0's gini: 0.281551\n",
            "[50]\ttraining's binary_logloss: 0.149849\ttraining's gini: 0.338144\tvalid_0's binary_logloss: 0.151445\tvalid_0's gini: 0.290219\n",
            "[75]\ttraining's binary_logloss: 0.148816\ttraining's gini: 0.362584\tvalid_0's binary_logloss: 0.151299\tvalid_0's gini: 0.293099\n",
            "[100]\ttraining's binary_logloss: 0.147949\ttraining's gini: 0.384276\tvalid_0's binary_logloss: 0.151258\tvalid_0's gini: 0.293804\n",
            "Did not meet early stopping. Best iteration is:\n",
            "[100]\ttraining's binary_logloss: 0.147949\ttraining's gini: 0.384276\tvalid_0's binary_logloss: 0.151258\tvalid_0's gini: 0.293804\n",
            "Training until validation scores don't improve for 50 rounds\n",
            "[25]\ttraining's binary_logloss: 0.151287\ttraining's gini: 0.308683\tvalid_0's binary_logloss: 0.15234\tvalid_0's gini: 0.26935\n",
            "[50]\ttraining's binary_logloss: 0.149913\ttraining's gini: 0.336845\tvalid_0's binary_logloss: 0.151849\tvalid_0's gini: 0.277599\n",
            "[75]\ttraining's binary_logloss: 0.14893\ttraining's gini: 0.360822\tvalid_0's binary_logloss: 0.15175\tvalid_0's gini: 0.279383\n",
            "[100]\ttraining's binary_logloss: 0.148133\ttraining's gini: 0.380737\tvalid_0's binary_logloss: 0.151755\tvalid_0's gini: 0.278824\n",
            "Did not meet early stopping. Best iteration is:\n",
            "[100]\ttraining's binary_logloss: 0.148133\ttraining's gini: 0.380737\tvalid_0's binary_logloss: 0.151755\tvalid_0's gini: 0.278824\n",
            "Training until validation scores don't improve for 50 rounds\n",
            "[25]\ttraining's binary_logloss: 0.151282\ttraining's gini: 0.308987\tvalid_0's binary_logloss: 0.15247\tvalid_0's gini: 0.261709\n",
            "[50]\ttraining's binary_logloss: 0.14988\ttraining's gini: 0.338535\tvalid_0's binary_logloss: 0.152017\tvalid_0's gini: 0.269082\n",
            "[75]\ttraining's binary_logloss: 0.148872\ttraining's gini: 0.362689\tvalid_0's binary_logloss: 0.151852\tvalid_0's gini: 0.27335\n",
            "[100]\ttraining's binary_logloss: 0.148007\ttraining's gini: 0.384549\tvalid_0's binary_logloss: 0.15181\tvalid_0's gini: 0.274621\n",
            "Did not meet early stopping. Best iteration is:\n",
            "[100]\ttraining's binary_logloss: 0.148007\ttraining's gini: 0.384549\tvalid_0's binary_logloss: 0.15181\tvalid_0's gini: 0.274621\n",
            "Training until validation scores don't improve for 50 rounds\n",
            "[25]\ttraining's binary_logloss: 0.151149\ttraining's gini: 0.312273\tvalid_0's binary_logloss: 0.152789\tvalid_0's gini: 0.24797\n",
            "[50]\ttraining's binary_logloss: 0.149793\ttraining's gini: 0.339626\tvalid_0's binary_logloss: 0.152397\tvalid_0's gini: 0.257128\n",
            "[75]\ttraining's binary_logloss: 0.148821\ttraining's gini: 0.362855\tvalid_0's binary_logloss: 0.152258\tvalid_0's gini: 0.261985\n",
            "[100]\ttraining's binary_logloss: 0.148025\ttraining's gini: 0.381626\tvalid_0's binary_logloss: 0.152212\tvalid_0's gini: 0.264257\n",
            "Did not meet early stopping. Best iteration is:\n",
            "[100]\ttraining's binary_logloss: 0.148025\ttraining's gini: 0.381626\tvalid_0's binary_logloss: 0.152212\tvalid_0's gini: 0.264257\n",
            "Training until validation scores don't improve for 50 rounds\n",
            "[25]\ttraining's binary_logloss: 0.151306\ttraining's gini: 0.309907\tvalid_0's binary_logloss: 0.152358\tvalid_0's gini: 0.264129\n",
            "[50]\ttraining's binary_logloss: 0.149919\ttraining's gini: 0.338172\tvalid_0's binary_logloss: 0.151889\tvalid_0's gini: 0.2732\n",
            "[75]\ttraining's binary_logloss: 0.148948\ttraining's gini: 0.361093\tvalid_0's binary_logloss: 0.151716\tvalid_0's gini: 0.278744\n",
            "[100]\ttraining's binary_logloss: 0.14813\ttraining's gini: 0.381433\tvalid_0's binary_logloss: 0.151753\tvalid_0's gini: 0.278281\n",
            "Did not meet early stopping. Best iteration is:\n",
            "[100]\ttraining's binary_logloss: 0.14813\ttraining's gini: 0.381433\tvalid_0's binary_logloss: 0.151753\tvalid_0's gini: 0.278281\n",
            "Training until validation scores don't improve for 50 rounds\n",
            "[25]\ttraining's binary_logloss: 0.151313\ttraining's gini: 0.30948\tvalid_0's binary_logloss: 0.152207\tvalid_0's gini: 0.274026\n",
            "[50]\ttraining's binary_logloss: 0.149941\ttraining's gini: 0.337706\tvalid_0's binary_logloss: 0.151735\tvalid_0's gini: 0.28046\n",
            "[75]\ttraining's binary_logloss: 0.148979\ttraining's gini: 0.3605\tvalid_0's binary_logloss: 0.151591\tvalid_0's gini: 0.283584\n",
            "[100]\ttraining's binary_logloss: 0.148194\ttraining's gini: 0.380104\tvalid_0's binary_logloss: 0.151559\tvalid_0's gini: 0.283827\n",
            "Did not meet early stopping. Best iteration is:\n",
            "[100]\ttraining's binary_logloss: 0.148194\ttraining's gini: 0.380104\tvalid_0's binary_logloss: 0.151559\tvalid_0's gini: 0.283827\n",
            "Training until validation scores don't improve for 50 rounds\n",
            "[25]\ttraining's binary_logloss: 0.151236\ttraining's gini: 0.311771\tvalid_0's binary_logloss: 0.152273\tvalid_0's gini: 0.268223\n",
            "[50]\ttraining's binary_logloss: 0.149786\ttraining's gini: 0.341334\tvalid_0's binary_logloss: 0.151802\tvalid_0's gini: 0.276117\n",
            "[75]\ttraining's binary_logloss: 0.14875\ttraining's gini: 0.366062\tvalid_0's binary_logloss: 0.151725\tvalid_0's gini: 0.277459\n",
            "[100]\ttraining's binary_logloss: 0.147888\ttraining's gini: 0.386835\tvalid_0's binary_logloss: 0.15169\tvalid_0's gini: 0.278346\n",
            "Did not meet early stopping. Best iteration is:\n",
            "[100]\ttraining's binary_logloss: 0.147888\ttraining's gini: 0.386835\tvalid_0's binary_logloss: 0.15169\tvalid_0's gini: 0.278346\n",
            "Training until validation scores don't improve for 50 rounds\n",
            "[25]\ttraining's binary_logloss: 0.151198\ttraining's gini: 0.310525\tvalid_0's binary_logloss: 0.15244\tvalid_0's gini: 0.259841\n",
            "[50]\ttraining's binary_logloss: 0.149815\ttraining's gini: 0.339782\tvalid_0's binary_logloss: 0.151868\tvalid_0's gini: 0.273763\n",
            "[75]\ttraining's binary_logloss: 0.14882\ttraining's gini: 0.363748\tvalid_0's binary_logloss: 0.151694\tvalid_0's gini: 0.278459\n",
            "[100]\ttraining's binary_logloss: 0.147988\ttraining's gini: 0.384162\tvalid_0's binary_logloss: 0.151668\tvalid_0's gini: 0.279067\n",
            "Did not meet early stopping. Best iteration is:\n",
            "[100]\ttraining's binary_logloss: 0.147988\ttraining's gini: 0.384162\tvalid_0's binary_logloss: 0.151668\tvalid_0's gini: 0.279067\n",
            "Training until validation scores don't improve for 50 rounds\n",
            "[25]\ttraining's binary_logloss: 0.151273\ttraining's gini: 0.308475\tvalid_0's binary_logloss: 0.152214\tvalid_0's gini: 0.274843\n",
            "[50]\ttraining's binary_logloss: 0.149883\ttraining's gini: 0.338287\tvalid_0's binary_logloss: 0.151696\tvalid_0's gini: 0.283202\n",
            "[75]\ttraining's binary_logloss: 0.148881\ttraining's gini: 0.362532\tvalid_0's binary_logloss: 0.15154\tvalid_0's gini: 0.286448\n",
            "[100]\ttraining's binary_logloss: 0.148\ttraining's gini: 0.384852\tvalid_0's binary_logloss: 0.15152\tvalid_0's gini: 0.286912\n",
            "Did not meet early stopping. Best iteration is:\n",
            "[100]\ttraining's binary_logloss: 0.148\ttraining's gini: 0.384852\tvalid_0's binary_logloss: 0.15152\tvalid_0's gini: 0.286912\n",
            "Training until validation scores don't improve for 50 rounds\n",
            "[25]\ttraining's binary_logloss: 0.151213\ttraining's gini: 0.31084\tvalid_0's binary_logloss: 0.152471\tvalid_0's gini: 0.260886\n",
            "[50]\ttraining's binary_logloss: 0.14974\ttraining's gini: 0.342482\tvalid_0's binary_logloss: 0.152008\tvalid_0's gini: 0.26968\n",
            "[75]\ttraining's binary_logloss: 0.14871\ttraining's gini: 0.367257\tvalid_0's binary_logloss: 0.151879\tvalid_0's gini: 0.272717\n",
            "[100]\ttraining's binary_logloss: 0.147844\ttraining's gini: 0.387893\tvalid_0's binary_logloss: 0.151891\tvalid_0's gini: 0.272137\n",
            "Did not meet early stopping. Best iteration is:\n",
            "[100]\ttraining's binary_logloss: 0.147844\ttraining's gini: 0.387893\tvalid_0's binary_logloss: 0.151891\tvalid_0's gini: 0.272137\n",
            "Training until validation scores don't improve for 50 rounds\n",
            "[25]\ttraining's binary_logloss: 0.151207\ttraining's gini: 0.310873\tvalid_0's binary_logloss: 0.152527\tvalid_0's gini: 0.257112\n",
            "[50]\ttraining's binary_logloss: 0.149753\ttraining's gini: 0.341613\tvalid_0's binary_logloss: 0.152032\tvalid_0's gini: 0.268057\n",
            "[75]\ttraining's binary_logloss: 0.148742\ttraining's gini: 0.365494\tvalid_0's binary_logloss: 0.151918\tvalid_0's gini: 0.270483\n",
            "[100]\ttraining's binary_logloss: 0.147911\ttraining's gini: 0.38571\tvalid_0's binary_logloss: 0.151926\tvalid_0's gini: 0.269604\n",
            "Did not meet early stopping. Best iteration is:\n",
            "[100]\ttraining's binary_logloss: 0.147911\ttraining's gini: 0.38571\tvalid_0's binary_logloss: 0.151926\tvalid_0's gini: 0.269604\n",
            "Training until validation scores don't improve for 50 rounds\n",
            "[25]\ttraining's binary_logloss: 0.151207\ttraining's gini: 0.312706\tvalid_0's binary_logloss: 0.152317\tvalid_0's gini: 0.263691\n",
            "[50]\ttraining's binary_logloss: 0.149781\ttraining's gini: 0.342308\tvalid_0's binary_logloss: 0.151788\tvalid_0's gini: 0.273957\n",
            "[75]\ttraining's binary_logloss: 0.148789\ttraining's gini: 0.365932\tvalid_0's binary_logloss: 0.151657\tvalid_0's gini: 0.276429\n",
            "[100]\ttraining's binary_logloss: 0.14793\ttraining's gini: 0.387884\tvalid_0's binary_logloss: 0.151684\tvalid_0's gini: 0.275425\n",
            "Did not meet early stopping. Best iteration is:\n",
            "[100]\ttraining's binary_logloss: 0.14793\ttraining's gini: 0.387884\tvalid_0's binary_logloss: 0.151684\tvalid_0's gini: 0.275425\n",
            "Training until validation scores don't improve for 50 rounds\n",
            "[25]\ttraining's binary_logloss: 0.151114\ttraining's gini: 0.314387\tvalid_0's binary_logloss: 0.152556\tvalid_0's gini: 0.253621\n",
            "[50]\ttraining's binary_logloss: 0.149678\ttraining's gini: 0.343164\tvalid_0's binary_logloss: 0.15217\tvalid_0's gini: 0.262744\n",
            "[75]\ttraining's binary_logloss: 0.148655\ttraining's gini: 0.367139\tvalid_0's binary_logloss: 0.152079\tvalid_0's gini: 0.265855\n",
            "[100]\ttraining's binary_logloss: 0.147811\ttraining's gini: 0.387522\tvalid_0's binary_logloss: 0.152066\tvalid_0's gini: 0.267136\n",
            "Did not meet early stopping. Best iteration is:\n",
            "[100]\ttraining's binary_logloss: 0.147811\ttraining's gini: 0.387522\tvalid_0's binary_logloss: 0.152066\tvalid_0's gini: 0.267136\n",
            "Training until validation scores don't improve for 50 rounds\n",
            "[25]\ttraining's binary_logloss: 0.151268\ttraining's gini: 0.307861\tvalid_0's binary_logloss: 0.152067\tvalid_0's gini: 0.285597\n",
            "[50]\ttraining's binary_logloss: 0.149884\ttraining's gini: 0.337771\tvalid_0's binary_logloss: 0.151501\tvalid_0's gini: 0.295694\n",
            "[75]\ttraining's binary_logloss: 0.148867\ttraining's gini: 0.362861\tvalid_0's binary_logloss: 0.151422\tvalid_0's gini: 0.295488\n",
            "[100]\ttraining's binary_logloss: 0.148002\ttraining's gini: 0.38358\tvalid_0's binary_logloss: 0.151401\tvalid_0's gini: 0.295442\n",
            "Did not meet early stopping. Best iteration is:\n",
            "[100]\ttraining's binary_logloss: 0.148002\ttraining's gini: 0.38358\tvalid_0's binary_logloss: 0.151401\tvalid_0's gini: 0.295442\n",
            "Training until validation scores don't improve for 50 rounds\n",
            "[25]\ttraining's binary_logloss: 0.151061\ttraining's gini: 0.314804\tvalid_0's binary_logloss: 0.152681\tvalid_0's gini: 0.252497\n",
            "[50]\ttraining's binary_logloss: 0.149663\ttraining's gini: 0.342883\tvalid_0's binary_logloss: 0.15224\tvalid_0's gini: 0.263783\n",
            "[75]\ttraining's binary_logloss: 0.148653\ttraining's gini: 0.36642\tvalid_0's binary_logloss: 0.152153\tvalid_0's gini: 0.266683\n",
            "[100]\ttraining's binary_logloss: 0.147788\ttraining's gini: 0.387058\tvalid_0's binary_logloss: 0.152097\tvalid_0's gini: 0.269079\n",
            "Did not meet early stopping. Best iteration is:\n",
            "[100]\ttraining's binary_logloss: 0.147788\ttraining's gini: 0.387058\tvalid_0's binary_logloss: 0.152097\tvalid_0's gini: 0.269079\n",
            "Training until validation scores don't improve for 50 rounds\n",
            "[25]\ttraining's binary_logloss: 0.151244\ttraining's gini: 0.310681\tvalid_0's binary_logloss: 0.152324\tvalid_0's gini: 0.268309\n",
            "[50]\ttraining's binary_logloss: 0.149818\ttraining's gini: 0.339589\tvalid_0's binary_logloss: 0.15182\tvalid_0's gini: 0.276943\n",
            "[75]\ttraining's binary_logloss: 0.148798\ttraining's gini: 0.364497\tvalid_0's binary_logloss: 0.151729\tvalid_0's gini: 0.278418\n",
            "[100]\ttraining's binary_logloss: 0.147943\ttraining's gini: 0.384959\tvalid_0's binary_logloss: 0.151672\tvalid_0's gini: 0.279054\n",
            "Did not meet early stopping. Best iteration is:\n",
            "[100]\ttraining's binary_logloss: 0.147943\ttraining's gini: 0.384959\tvalid_0's binary_logloss: 0.151672\tvalid_0's gini: 0.279054\n",
            "Training until validation scores don't improve for 50 rounds\n",
            "[25]\ttraining's binary_logloss: 0.151228\ttraining's gini: 0.308321\tvalid_0's binary_logloss: 0.152415\tvalid_0's gini: 0.262547\n",
            "[50]\ttraining's binary_logloss: 0.149847\ttraining's gini: 0.338539\tvalid_0's binary_logloss: 0.151929\tvalid_0's gini: 0.271793\n",
            "[75]\ttraining's binary_logloss: 0.14887\ttraining's gini: 0.361751\tvalid_0's binary_logloss: 0.151786\tvalid_0's gini: 0.274639\n",
            "[100]\ttraining's binary_logloss: 0.148007\ttraining's gini: 0.381767\tvalid_0's binary_logloss: 0.1517\tvalid_0's gini: 0.277387\n",
            "Did not meet early stopping. Best iteration is:\n",
            "[100]\ttraining's binary_logloss: 0.148007\ttraining's gini: 0.381767\tvalid_0's binary_logloss: 0.1517\tvalid_0's gini: 0.277387\n",
            "Training until validation scores don't improve for 50 rounds\n",
            "[25]\ttraining's binary_logloss: 0.15124\ttraining's gini: 0.309489\tvalid_0's binary_logloss: 0.15235\tvalid_0's gini: 0.265335\n",
            "[50]\ttraining's binary_logloss: 0.14987\ttraining's gini: 0.338365\tvalid_0's binary_logloss: 0.151891\tvalid_0's gini: 0.274093\n",
            "[75]\ttraining's binary_logloss: 0.148882\ttraining's gini: 0.362099\tvalid_0's binary_logloss: 0.151833\tvalid_0's gini: 0.274874\n",
            "[100]\ttraining's binary_logloss: 0.148077\ttraining's gini: 0.38189\tvalid_0's binary_logloss: 0.151781\tvalid_0's gini: 0.276159\n",
            "Did not meet early stopping. Best iteration is:\n",
            "[100]\ttraining's binary_logloss: 0.148077\ttraining's gini: 0.38189\tvalid_0's binary_logloss: 0.151781\tvalid_0's gini: 0.276159\n",
            "Training until validation scores don't improve for 50 rounds\n",
            "[25]\ttraining's binary_logloss: 0.151326\ttraining's gini: 0.306139\tvalid_0's binary_logloss: 0.15217\tvalid_0's gini: 0.273746\n",
            "[50]\ttraining's binary_logloss: 0.150005\ttraining's gini: 0.334188\tvalid_0's binary_logloss: 0.151595\tvalid_0's gini: 0.284166\n",
            "[75]\ttraining's binary_logloss: 0.149063\ttraining's gini: 0.357265\tvalid_0's binary_logloss: 0.151478\tvalid_0's gini: 0.285639\n",
            "[100]\ttraining's binary_logloss: 0.148252\ttraining's gini: 0.377094\tvalid_0's binary_logloss: 0.151441\tvalid_0's gini: 0.286271\n",
            "Did not meet early stopping. Best iteration is:\n",
            "[100]\ttraining's binary_logloss: 0.148252\ttraining's gini: 0.377094\tvalid_0's binary_logloss: 0.151441\tvalid_0's gini: 0.286271\n",
            "Training until validation scores don't improve for 50 rounds\n",
            "[25]\ttraining's binary_logloss: 0.15125\ttraining's gini: 0.307232\tvalid_0's binary_logloss: 0.152367\tvalid_0's gini: 0.26588\n",
            "[50]\ttraining's binary_logloss: 0.149875\ttraining's gini: 0.336403\tvalid_0's binary_logloss: 0.151869\tvalid_0's gini: 0.274653\n",
            "[75]\ttraining's binary_logloss: 0.148916\ttraining's gini: 0.359411\tvalid_0's binary_logloss: 0.151844\tvalid_0's gini: 0.274565\n",
            "[100]\ttraining's binary_logloss: 0.148078\ttraining's gini: 0.379688\tvalid_0's binary_logloss: 0.151826\tvalid_0's gini: 0.275761\n",
            "Did not meet early stopping. Best iteration is:\n",
            "[100]\ttraining's binary_logloss: 0.148078\ttraining's gini: 0.379688\tvalid_0's binary_logloss: 0.151826\tvalid_0's gini: 0.275761\n",
            "Training until validation scores don't improve for 50 rounds\n",
            "[25]\ttraining's binary_logloss: 0.151203\ttraining's gini: 0.309595\tvalid_0's binary_logloss: 0.152346\tvalid_0's gini: 0.266766\n",
            "[50]\ttraining's binary_logloss: 0.149856\ttraining's gini: 0.33703\tvalid_0's binary_logloss: 0.151942\tvalid_0's gini: 0.273021\n",
            "[75]\ttraining's binary_logloss: 0.148881\ttraining's gini: 0.360426\tvalid_0's binary_logloss: 0.151871\tvalid_0's gini: 0.274209\n",
            "[100]\ttraining's binary_logloss: 0.148073\ttraining's gini: 0.380653\tvalid_0's binary_logloss: 0.151916\tvalid_0's gini: 0.273286\n",
            "Did not meet early stopping. Best iteration is:\n",
            "[100]\ttraining's binary_logloss: 0.148073\ttraining's gini: 0.380653\tvalid_0's binary_logloss: 0.151916\tvalid_0's gini: 0.273286\n",
            "Training until validation scores don't improve for 50 rounds\n",
            "[25]\ttraining's binary_logloss: 0.151202\ttraining's gini: 0.311008\tvalid_0's binary_logloss: 0.152374\tvalid_0's gini: 0.265266\n",
            "[50]\ttraining's binary_logloss: 0.149763\ttraining's gini: 0.340417\tvalid_0's binary_logloss: 0.151795\tvalid_0's gini: 0.278295\n",
            "[75]\ttraining's binary_logloss: 0.148791\ttraining's gini: 0.363418\tvalid_0's binary_logloss: 0.151654\tvalid_0's gini: 0.280201\n",
            "[100]\ttraining's binary_logloss: 0.147956\ttraining's gini: 0.384092\tvalid_0's binary_logloss: 0.151585\tvalid_0's gini: 0.282059\n",
            "Did not meet early stopping. Best iteration is:\n",
            "[100]\ttraining's binary_logloss: 0.147956\ttraining's gini: 0.384092\tvalid_0's binary_logloss: 0.151585\tvalid_0's gini: 0.282059\n",
            "Training until validation scores don't improve for 50 rounds\n",
            "[25]\ttraining's binary_logloss: 0.151209\ttraining's gini: 0.308291\tvalid_0's binary_logloss: 0.152318\tvalid_0's gini: 0.268734\n",
            "[50]\ttraining's binary_logloss: 0.149793\ttraining's gini: 0.339026\tvalid_0's binary_logloss: 0.151833\tvalid_0's gini: 0.278053\n",
            "[75]\ttraining's binary_logloss: 0.148804\ttraining's gini: 0.362623\tvalid_0's binary_logloss: 0.151712\tvalid_0's gini: 0.280079\n",
            "[100]\ttraining's binary_logloss: 0.147972\ttraining's gini: 0.383784\tvalid_0's binary_logloss: 0.151642\tvalid_0's gini: 0.282079\n",
            "Did not meet early stopping. Best iteration is:\n",
            "[100]\ttraining's binary_logloss: 0.147972\ttraining's gini: 0.383784\tvalid_0's binary_logloss: 0.151642\tvalid_0's gini: 0.282079\n",
            "Training until validation scores don't improve for 50 rounds\n",
            "[25]\ttraining's binary_logloss: 0.151148\ttraining's gini: 0.312204\tvalid_0's binary_logloss: 0.15251\tvalid_0's gini: 0.25647\n",
            "[50]\ttraining's binary_logloss: 0.149721\ttraining's gini: 0.341987\tvalid_0's binary_logloss: 0.152059\tvalid_0's gini: 0.266037\n",
            "[75]\ttraining's binary_logloss: 0.148721\ttraining's gini: 0.364633\tvalid_0's binary_logloss: 0.15189\tvalid_0's gini: 0.271612\n",
            "[100]\ttraining's binary_logloss: 0.147895\ttraining's gini: 0.385126\tvalid_0's binary_logloss: 0.151896\tvalid_0's gini: 0.272407\n",
            "Did not meet early stopping. Best iteration is:\n",
            "[100]\ttraining's binary_logloss: 0.147895\ttraining's gini: 0.385126\tvalid_0's binary_logloss: 0.151896\tvalid_0's gini: 0.272407\n",
            "Training until validation scores don't improve for 50 rounds\n",
            "[25]\ttraining's binary_logloss: 0.151242\ttraining's gini: 0.308812\tvalid_0's binary_logloss: 0.152177\tvalid_0's gini: 0.273022\n",
            "[50]\ttraining's binary_logloss: 0.149803\ttraining's gini: 0.339554\tvalid_0's binary_logloss: 0.151659\tvalid_0's gini: 0.282013\n",
            "[75]\ttraining's binary_logloss: 0.148824\ttraining's gini: 0.363205\tvalid_0's binary_logloss: 0.1516\tvalid_0's gini: 0.28233\n",
            "[100]\ttraining's binary_logloss: 0.147983\ttraining's gini: 0.384512\tvalid_0's binary_logloss: 0.151609\tvalid_0's gini: 0.282402\n",
            "Did not meet early stopping. Best iteration is:\n",
            "[100]\ttraining's binary_logloss: 0.147983\ttraining's gini: 0.384512\tvalid_0's binary_logloss: 0.151609\tvalid_0's gini: 0.282402\n",
            "Training until validation scores don't improve for 50 rounds\n"
          ]
        }
      ],
      "source": [
        "for j in range(10):\n",
        "    results=[]\n",
        "    for i in range(10):\n",
        "        params = {'learning_rate': 0.1,\n",
        "                      'subsample': 0.6,\n",
        "               'colsample_bytree': float(decimal.Decimal(random.randrange(70, 80))/100),\n",
        "                      'reg_alpha': int(decimal.Decimal(random.randrange(12, 15))),\n",
        "                     'reg_lambda': 0.0,\n",
        "                     'max_depth' : int(decimal.Decimal(random.randrange(5, 9))),\n",
        "                     'num_leaves': int(decimal.Decimal(random.randrange(15,20))),        \n",
        "               'min_data_in_leaf': int(decimal.Decimal(random.randrange(85,100))), \n",
        "                       'boosting': 'gbdt',\n",
        "                      'objective': 'binary',\n",
        "             'is_training_metric': False,\n",
        "                           'seed': 99,\n",
        "                        'verbose': -1,\n",
        "                        'n_jobs' : -1\n",
        "                  }\n",
        "        sss = StratifiedKFold(n_splits = 6, shuffle = True, random_state=i+j+15)\n",
        "        for train_index, valid_index in sss.split(X_train,y_train):\n",
        "            x_tr, x_valid = X_train.iloc[train_index], X_train.iloc[valid_index]\n",
        "            y_tr, y_valid = pd.DataFrame(y_train).iloc[train_index], pd.DataFrame(y_train).iloc[valid_index]\n",
        "            lgb_train = lgb.Dataset(x_tr, label=y_tr)\n",
        "            lgb_eval = lgb.Dataset(x_valid, label=y_valid)\n",
        "            mdl = lgb.train(params,lgb_train,valid_sets=[lgb_eval,lgb_train],verbose_eval=25, feval=gini_lgb,early_stopping_rounds=50)\n",
        "            results.append((mdl.best_score,mdl.params))\n",
        "    pd.DataFrame(results).to_csv('result_3'+str(j)+'.csv')"
      ]
    },
    {
      "cell_type": "code",
      "source": [
        "import os\n",
        "for i in os.listdir('/content/Final'):\n",
        "  score_=pd.read_csv('/content/Final/'+i)\n",
        "  print(max([(float((i[1].split(',')[-1])[:15]),i[2]) for i in score_.values ])[0])\n",
        "  print(max([(float((i[1].split(',')[-1])[:15]),i[2]) for i in score_.values ])[1])\n"
      ],
      "metadata": {
        "colab": {
          "base_uri": "https://localhost:8080/"
        },
        "id": "hbNhtgMgzxsY",
        "outputId": "5ce9fc6d-29aa-490e-8413-e3872bb0ab59"
      },
      "execution_count": null,
      "outputs": [
        {
          "output_type": "stream",
          "name": "stdout",
          "text": [
            "0.293378268213\n",
            "{'learning_rate': 0.1, 'subsample': 0.78, 'colsample_bytree': 0.7, 'reg_alpha': 19, 'reg_lambda': 1.0, 'max_depth': 5, 'num_leaves': 58, 'min_data_in_leaf': 75, 'boosting': 'gbdt', 'objective': 'binary', 'is_training_metric': False, 'seed': 99, 'verbose': -1, 'n_jobs': -1, 'num_iterations': 100, 'early_stopping_round': 50}\n",
            "0.315074363722\n",
            "{'learning_rate': 0.1, 'subsample': 0.6, 'colsample_bytree': 0.71, 'reg_alpha': 13, 'reg_lambda': 0.0, 'max_depth': 6, 'num_leaves': 16, 'min_data_in_leaf': 86, 'boosting': 'gbdt', 'objective': 'binary', 'is_training_metric': False, 'seed': 99, 'verbose': -1, 'n_jobs': -1, 'num_iterations': 100, 'early_stopping_round': 50}\n",
            "0.280835265444\n",
            "{'learning_rate': 0.5, 'subsample': 0.65, 'colsample_bytree': 0.8, 'reg_alpha': 24, 'reg_lambda': 0.8, 'max_depth': 18, 'num_leaves': 33, 'min_data_in_leaf': 117, 'boosting': 'gbdt', 'objective': 'binary', 'is_training_metric': False, 'seed': 99, 'verbose': -1, 'n_jobs': -1, 'num_iterations': 100, 'early_stopping_round': 50}\n",
            "0.317853029022\n",
            "{'learning_rate': 0.1, 'subsample': 0.6, 'colsample_bytree': 0.75, 'reg_alpha': 15, 'reg_lambda': 0.0, 'max_depth': 5, 'num_leaves': 15, 'min_data_in_leaf': 99, 'boosting': 'gbdt', 'objective': 'binary', 'is_training_metric': False, 'seed': 99, 'verbose': -1, 'n_jobs': -1, 'num_iterations': 100, 'early_stopping_round': 50}\n",
            "0.29565920193\n",
            "{'learning_rate': 0.1, 'subsample': 0.64, 'colsample_bytree': 0.66, 'reg_alpha': 15, 'reg_lambda': 0.6, 'max_depth': 17, 'num_leaves': 56, 'min_data_in_leaf': 132, 'boosting': 'gbdt', 'objective': 'binary', 'is_training_metric': False, 'seed': 99, 'verbose': -1, 'n_jobs': -1, 'num_iterations': 100, 'early_stopping_round': 50}\n",
            "0.318197333442\n",
            "{'learning_rate': 0.1, 'subsample': 0.6, 'colsample_bytree': 0.76, 'reg_alpha': 13, 'reg_lambda': 0.0, 'max_depth': 8, 'num_leaves': 19, 'min_data_in_leaf': 93, 'boosting': 'gbdt', 'objective': 'binary', 'is_training_metric': False, 'seed': 99, 'verbose': -1, 'n_jobs': -1, 'num_iterations': 100, 'early_stopping_round': 50}\n",
            "0.295984424565\n",
            "{'learning_rate': 0.1, 'subsample': 0.69, 'colsample_bytree': 0.8, 'reg_alpha': 21, 'reg_lambda': 0.8, 'max_depth': 15, 'num_leaves': 57, 'min_data_in_leaf': 70, 'boosting': 'gbdt', 'objective': 'binary', 'is_training_metric': False, 'seed': 99, 'verbose': -1, 'n_jobs': -1, 'num_iterations': 100, 'early_stopping_round': 50}\n",
            "0.293387751157\n",
            "{'learning_rate': 0.1, 'subsample': 0.67, 'colsample_bytree': 0.73, 'reg_alpha': 12, 'reg_lambda': 1.2, 'max_depth': 15, 'num_leaves': 27, 'min_data_in_leaf': 82, 'boosting': 'gbdt', 'objective': 'binary', 'is_training_metric': False, 'seed': 99, 'verbose': -1, 'n_jobs': -1, 'num_iterations': 100, 'early_stopping_round': 50}\n",
            "0.287847714828\n",
            "{'learning_rate': 0.3, 'subsample': 0.79, 'colsample_bytree': 0.62, 'reg_alpha': 23, 'reg_lambda': 0.7, 'max_depth': 17, 'num_leaves': 49, 'min_data_in_leaf': 113, 'boosting': 'gbdt', 'objective': 'binary', 'is_training_metric': False, 'seed': 99, 'verbose': -1, 'n_jobs': -1, 'num_iterations': 100, 'early_stopping_round': 50}\n",
            "0.283857656629\n",
            "{'learning_rate': 0.2, 'subsample': 0.77, 'colsample_bytree': 0.76, 'reg_alpha': 28, 'reg_lambda': 1.3, 'max_depth': 5, 'num_leaves': 29, 'min_data_in_leaf': 131, 'boosting': 'gbdt', 'objective': 'binary', 'is_training_metric': False, 'seed': 99, 'verbose': -1, 'n_jobs': -1, 'num_iterations': 100, 'early_stopping_round': 50}\n",
            "0.320066093431\n",
            "{'learning_rate': 0.1, 'subsample': 0.6, 'colsample_bytree': 0.76, 'reg_alpha': 14, 'reg_lambda': 0.0, 'max_depth': 7, 'num_leaves': 16, 'min_data_in_leaf': 85, 'boosting': 'gbdt', 'objective': 'binary', 'is_training_metric': False, 'seed': 99, 'verbose': -1, 'n_jobs': -1, 'num_iterations': 100, 'early_stopping_round': 50}\n",
            "0.26656130672\n",
            "{'learning_rate': 1.0, 'subsample': 0.76, 'colsample_bytree': 0.73, 'reg_alpha': 21, 'reg_lambda': 0.0, 'max_depth': 8, 'num_leaves': 41, 'min_data_in_leaf': 67, 'boosting': 'gbdt', 'objective': 'binary', 'is_training_metric': False, 'seed': 99, 'verbose': -1, 'n_jobs': -1, 'num_iterations': 100, 'early_stopping_round': 50}\n"
          ]
        }
      ]
    },
    {
      "cell_type": "markdown",
      "source": [
        "**3.2 OBSERVATIONS:**\n",
        "\n",
        "\n",
        "*   Maximum validation Normalized gini score is **0.3200**\n",
        "*   we will use the coresponding parameters as our final paramater for the Model"
      ],
      "metadata": {
        "id": "YYk2QbRV2CFX"
      }
    },
    {
      "cell_type": "markdown",
      "source": [
        "## **4.Training Final Model :**"
      ],
      "metadata": {
        "id": "PHvRHRBj2Yki"
      }
    },
    {
      "cell_type": "code",
      "source": [
        "import os\n",
        "import ast\n",
        "for i in os.listdir('/content/Final'):\n",
        "  score_=pd.read_csv('/content/Final/'+i)\n",
        "  if max([(float((i[1].split(',')[-1])[:15]),i[2]) for i in score_.values ])[0]>=0.32:\n",
        "    param=ast.literal_eval(str(max([(float((i[1].split(',')[-1])[:15]),i[2]) for i in score_.values ])[1]))\n",
        "    print(' Highest Gini Score is {} with file name {}'.format(max([(float((i[1].split(',')[-1])[:15]),i[2]) for i in score_.values ])[0],i))\n",
        "    print('final parameter is :',param)\n"
      ],
      "metadata": {
        "colab": {
          "base_uri": "https://localhost:8080/"
        },
        "id": "u510ple43IU9",
        "outputId": "281534c0-cfcb-41bc-f5f5-91bfb4e67e06"
      },
      "execution_count": null,
      "outputs": [
        {
          "output_type": "stream",
          "name": "stdout",
          "text": [
            " Highest Gini Score is 0.320066093431 with file name result_(48).csv\n",
            "final parameter is : {'learning_rate': 0.1, 'subsample': 0.6, 'colsample_bytree': 0.76, 'reg_alpha': 14, 'reg_lambda': 0.0, 'max_depth': 7, 'num_leaves': 16, 'min_data_in_leaf': 85, 'boosting': 'gbdt', 'objective': 'binary', 'is_training_metric': False, 'seed': 99, 'verbose': -1, 'n_jobs': -1, 'num_iterations': 100, 'early_stopping_round': 50}\n"
          ]
        }
      ]
    },
    {
      "cell_type": "code",
      "source": [
        "param={'learning_rate': 0.1, 'subsample': 0.6, 'colsample_bytree': 0.76, 'reg_alpha': 14, 'reg_lambda': 0.0, 'max_depth': 7, 'num_leaves': 16, 'min_data_in_leaf': 85, 'boosting': 'gbdt', 'objective': 'binary', 'is_training_metric': False, 'seed': 99, 'verbose': -1, 'n_jobs': -1, 'num_iterations': 100, 'early_stopping_round': 50}\n"
      ],
      "metadata": {
        "id": "wT0aPh7Pxlq3"
      },
      "execution_count": null,
      "outputs": []
    },
    {
      "cell_type": "code",
      "source": [
        "import lightgbm as lgb\n",
        "from sklearn.model_selection import StratifiedKFold\n",
        "\n",
        "sss = StratifiedKFold(n_splits = 20, shuffle = True, random_state=15)\n",
        "for train_index, valid_index in sss.split(X_train,y_train):\n",
        "  x_tr, x_valid = X_train.iloc[train_index], X_train.iloc[valid_index]\n",
        "  y_tr, y_valid = pd.DataFrame(y_train).iloc[train_index], pd.DataFrame(y_train).iloc[valid_index]\n",
        "  lgb_train = lgb.Dataset(x_tr, label=y_tr)\n",
        "  lgb_eval = lgb.Dataset(x_valid, label=y_valid)\n",
        "  mdl = lgb.train(param,lgb_train,valid_sets=[lgb_eval,lgb_train],verbose_eval=25, feval=gini_lgb,early_stopping_rounds=50)"
      ],
      "metadata": {
        "colab": {
          "base_uri": "https://localhost:8080/"
        },
        "id": "PZwTdSSh4kao",
        "outputId": "31b32d5d-f29b-4064-b9f7-60e6b8df9256"
      },
      "execution_count": null,
      "outputs": [
        {
          "output_type": "stream",
          "name": "stdout",
          "text": [
            "Training until validation scores don't improve for 50 rounds.\n",
            "[25]\ttraining's binary_logloss: 0.151999\ttraining's gini: 0.281414\tvalid_0's binary_logloss: 0.151897\tvalid_0's gini: 0.290582\n",
            "[50]\ttraining's binary_logloss: 0.151168\ttraining's gini: 0.297332\tvalid_0's binary_logloss: 0.15124\tvalid_0's gini: 0.301077\n",
            "[75]\ttraining's binary_logloss: 0.150711\ttraining's gini: 0.308606\tvalid_0's binary_logloss: 0.15098\tvalid_0's gini: 0.308578\n",
            "[100]\ttraining's binary_logloss: 0.15039\ttraining's gini: 0.316312\tvalid_0's binary_logloss: 0.150846\tvalid_0's gini: 0.312507\n",
            "Did not meet early stopping. Best iteration is:\n",
            "[100]\ttraining's binary_logloss: 0.15039\ttraining's gini: 0.316312\tvalid_0's binary_logloss: 0.150846\tvalid_0's gini: 0.312507\n",
            "Training until validation scores don't improve for 50 rounds.\n",
            "[25]\ttraining's binary_logloss: 0.151953\ttraining's gini: 0.281382\tvalid_0's binary_logloss: 0.152659\tvalid_0's gini: 0.257192\n",
            "[50]\ttraining's binary_logloss: 0.151119\ttraining's gini: 0.298444\tvalid_0's binary_logloss: 0.152145\tvalid_0's gini: 0.268608\n",
            "[75]\ttraining's binary_logloss: 0.150656\ttraining's gini: 0.309836\tvalid_0's binary_logloss: 0.151923\tvalid_0's gini: 0.274216\n",
            "[100]\ttraining's binary_logloss: 0.150336\ttraining's gini: 0.317381\tvalid_0's binary_logloss: 0.151911\tvalid_0's gini: 0.273809\n",
            "Did not meet early stopping. Best iteration is:\n",
            "[100]\ttraining's binary_logloss: 0.150336\ttraining's gini: 0.317381\tvalid_0's binary_logloss: 0.151911\tvalid_0's gini: 0.273809\n",
            "Training until validation scores don't improve for 50 rounds.\n",
            "[25]\ttraining's binary_logloss: 0.152011\ttraining's gini: 0.279323\tvalid_0's binary_logloss: 0.151793\tvalid_0's gini: 0.303433\n",
            "[50]\ttraining's binary_logloss: 0.15116\ttraining's gini: 0.296938\tvalid_0's binary_logloss: 0.15119\tvalid_0's gini: 0.310996\n",
            "[75]\ttraining's binary_logloss: 0.15071\ttraining's gini: 0.307756\tvalid_0's binary_logloss: 0.150942\tvalid_0's gini: 0.315589\n",
            "[100]\ttraining's binary_logloss: 0.150392\ttraining's gini: 0.315512\tvalid_0's binary_logloss: 0.150874\tvalid_0's gini: 0.316863\n",
            "Did not meet early stopping. Best iteration is:\n",
            "[100]\ttraining's binary_logloss: 0.150392\ttraining's gini: 0.315512\tvalid_0's binary_logloss: 0.150874\tvalid_0's gini: 0.316863\n",
            "Training until validation scores don't improve for 50 rounds.\n",
            "[25]\ttraining's binary_logloss: 0.15196\ttraining's gini: 0.281198\tvalid_0's binary_logloss: 0.152723\tvalid_0's gini: 0.258271\n",
            "[50]\ttraining's binary_logloss: 0.151115\ttraining's gini: 0.29821\tvalid_0's binary_logloss: 0.152053\tvalid_0's gini: 0.276263\n",
            "[75]\ttraining's binary_logloss: 0.15067\ttraining's gini: 0.308902\tvalid_0's binary_logloss: 0.151731\tvalid_0's gini: 0.285416\n",
            "[100]\ttraining's binary_logloss: 0.150343\ttraining's gini: 0.316924\tvalid_0's binary_logloss: 0.151622\tvalid_0's gini: 0.288116\n",
            "Did not meet early stopping. Best iteration is:\n",
            "[100]\ttraining's binary_logloss: 0.150343\ttraining's gini: 0.316924\tvalid_0's binary_logloss: 0.151622\tvalid_0's gini: 0.288116\n",
            "Training until validation scores don't improve for 50 rounds.\n",
            "[25]\ttraining's binary_logloss: 0.151935\ttraining's gini: 0.281536\tvalid_0's binary_logloss: 0.152839\tvalid_0's gini: 0.261177\n",
            "[50]\ttraining's binary_logloss: 0.151093\ttraining's gini: 0.29932\tvalid_0's binary_logloss: 0.152337\tvalid_0's gini: 0.271245\n",
            "[75]\ttraining's binary_logloss: 0.150629\ttraining's gini: 0.310532\tvalid_0's binary_logloss: 0.152204\tvalid_0's gini: 0.273596\n",
            "[100]\ttraining's binary_logloss: 0.150304\ttraining's gini: 0.318397\tvalid_0's binary_logloss: 0.152171\tvalid_0's gini: 0.272943\n",
            "Did not meet early stopping. Best iteration is:\n",
            "[100]\ttraining's binary_logloss: 0.150304\ttraining's gini: 0.318397\tvalid_0's binary_logloss: 0.152171\tvalid_0's gini: 0.272943\n",
            "Training until validation scores don't improve for 50 rounds.\n",
            "[25]\ttraining's binary_logloss: 0.151905\ttraining's gini: 0.283798\tvalid_0's binary_logloss: 0.153037\tvalid_0's gini: 0.231611\n",
            "[50]\ttraining's binary_logloss: 0.151055\ttraining's gini: 0.300255\tvalid_0's binary_logloss: 0.15279\tvalid_0's gini: 0.235807\n",
            "[75]\ttraining's binary_logloss: 0.150601\ttraining's gini: 0.311341\tvalid_0's binary_logloss: 0.152662\tvalid_0's gini: 0.240418\n",
            "[100]\ttraining's binary_logloss: 0.150289\ttraining's gini: 0.31906\tvalid_0's binary_logloss: 0.152595\tvalid_0's gini: 0.242212\n",
            "Did not meet early stopping. Best iteration is:\n",
            "[100]\ttraining's binary_logloss: 0.150289\ttraining's gini: 0.31906\tvalid_0's binary_logloss: 0.152595\tvalid_0's gini: 0.242212\n",
            "Training until validation scores don't improve for 50 rounds.\n",
            "[25]\ttraining's binary_logloss: 0.15194\ttraining's gini: 0.282531\tvalid_0's binary_logloss: 0.152586\tvalid_0's gini: 0.251499\n",
            "[50]\ttraining's binary_logloss: 0.15112\ttraining's gini: 0.29867\tvalid_0's binary_logloss: 0.15206\tvalid_0's gini: 0.263965\n",
            "[75]\ttraining's binary_logloss: 0.150665\ttraining's gini: 0.309446\tvalid_0's binary_logloss: 0.151719\tvalid_0's gini: 0.273982\n",
            "[100]\ttraining's binary_logloss: 0.150336\ttraining's gini: 0.317403\tvalid_0's binary_logloss: 0.151569\tvalid_0's gini: 0.278791\n",
            "Did not meet early stopping. Best iteration is:\n",
            "[100]\ttraining's binary_logloss: 0.150336\ttraining's gini: 0.317403\tvalid_0's binary_logloss: 0.151569\tvalid_0's gini: 0.278791\n",
            "Training until validation scores don't improve for 50 rounds.\n",
            "[25]\ttraining's binary_logloss: 0.151968\ttraining's gini: 0.282777\tvalid_0's binary_logloss: 0.152084\tvalid_0's gini: 0.26799\n",
            "[50]\ttraining's binary_logloss: 0.151127\ttraining's gini: 0.299376\tvalid_0's binary_logloss: 0.151529\tvalid_0's gini: 0.274732\n",
            "[75]\ttraining's binary_logloss: 0.150673\ttraining's gini: 0.31033\tvalid_0's binary_logloss: 0.151408\tvalid_0's gini: 0.276553\n",
            "[100]\ttraining's binary_logloss: 0.150336\ttraining's gini: 0.318743\tvalid_0's binary_logloss: 0.151323\tvalid_0's gini: 0.277354\n",
            "Did not meet early stopping. Best iteration is:\n",
            "[100]\ttraining's binary_logloss: 0.150336\ttraining's gini: 0.318743\tvalid_0's binary_logloss: 0.151323\tvalid_0's gini: 0.277354\n",
            "Training until validation scores don't improve for 50 rounds.\n",
            "[25]\ttraining's binary_logloss: 0.15192\ttraining's gini: 0.28318\tvalid_0's binary_logloss: 0.153202\tvalid_0's gini: 0.232891\n",
            "[50]\ttraining's binary_logloss: 0.151065\ttraining's gini: 0.300363\tvalid_0's binary_logloss: 0.152829\tvalid_0's gini: 0.243768\n",
            "[75]\ttraining's binary_logloss: 0.150588\ttraining's gini: 0.312008\tvalid_0's binary_logloss: 0.152743\tvalid_0's gini: 0.246938\n",
            "[100]\ttraining's binary_logloss: 0.150283\ttraining's gini: 0.318987\tvalid_0's binary_logloss: 0.15275\tvalid_0's gini: 0.246982\n",
            "Did not meet early stopping. Best iteration is:\n",
            "[100]\ttraining's binary_logloss: 0.150283\ttraining's gini: 0.318987\tvalid_0's binary_logloss: 0.15275\tvalid_0's gini: 0.246982\n",
            "Training until validation scores don't improve for 50 rounds.\n",
            "[25]\ttraining's binary_logloss: 0.151964\ttraining's gini: 0.28108\tvalid_0's binary_logloss: 0.15235\tvalid_0's gini: 0.272158\n",
            "[50]\ttraining's binary_logloss: 0.151118\ttraining's gini: 0.298359\tvalid_0's binary_logloss: 0.151778\tvalid_0's gini: 0.282282\n",
            "[75]\ttraining's binary_logloss: 0.150654\ttraining's gini: 0.309866\tvalid_0's binary_logloss: 0.151444\tvalid_0's gini: 0.29081\n",
            "[100]\ttraining's binary_logloss: 0.15034\ttraining's gini: 0.317332\tvalid_0's binary_logloss: 0.151294\tvalid_0's gini: 0.294439\n",
            "Did not meet early stopping. Best iteration is:\n",
            "[100]\ttraining's binary_logloss: 0.15034\ttraining's gini: 0.317332\tvalid_0's binary_logloss: 0.151294\tvalid_0's gini: 0.294439\n",
            "Training until validation scores don't improve for 50 rounds.\n",
            "[25]\ttraining's binary_logloss: 0.151967\ttraining's gini: 0.282852\tvalid_0's binary_logloss: 0.15258\tvalid_0's gini: 0.249723\n",
            "[50]\ttraining's binary_logloss: 0.15112\ttraining's gini: 0.299201\tvalid_0's binary_logloss: 0.152158\tvalid_0's gini: 0.257752\n",
            "[75]\ttraining's binary_logloss: 0.150661\ttraining's gini: 0.310447\tvalid_0's binary_logloss: 0.152054\tvalid_0's gini: 0.261874\n",
            "[100]\ttraining's binary_logloss: 0.150342\ttraining's gini: 0.318196\tvalid_0's binary_logloss: 0.152016\tvalid_0's gini: 0.263387\n",
            "Did not meet early stopping. Best iteration is:\n",
            "[100]\ttraining's binary_logloss: 0.150342\ttraining's gini: 0.318196\tvalid_0's binary_logloss: 0.152016\tvalid_0's gini: 0.263387\n",
            "Training until validation scores don't improve for 50 rounds.\n",
            "[25]\ttraining's binary_logloss: 0.15199\ttraining's gini: 0.280542\tvalid_0's binary_logloss: 0.152427\tvalid_0's gini: 0.255781\n",
            "[50]\ttraining's binary_logloss: 0.151139\ttraining's gini: 0.298229\tvalid_0's binary_logloss: 0.151829\tvalid_0's gini: 0.26801\n",
            "[75]\ttraining's binary_logloss: 0.150705\ttraining's gini: 0.308798\tvalid_0's binary_logloss: 0.151566\tvalid_0's gini: 0.275235\n",
            "[100]\ttraining's binary_logloss: 0.150391\ttraining's gini: 0.316303\tvalid_0's binary_logloss: 0.151427\tvalid_0's gini: 0.27855\n",
            "Did not meet early stopping. Best iteration is:\n",
            "[100]\ttraining's binary_logloss: 0.150391\ttraining's gini: 0.316303\tvalid_0's binary_logloss: 0.151427\tvalid_0's gini: 0.27855\n",
            "Training until validation scores don't improve for 50 rounds.\n",
            "[25]\ttraining's binary_logloss: 0.152035\ttraining's gini: 0.280119\tvalid_0's binary_logloss: 0.15157\tvalid_0's gini: 0.295718\n",
            "[50]\ttraining's binary_logloss: 0.151194\ttraining's gini: 0.297081\tvalid_0's binary_logloss: 0.150792\tvalid_0's gini: 0.30728\n",
            "[75]\ttraining's binary_logloss: 0.150752\ttraining's gini: 0.30776\tvalid_0's binary_logloss: 0.150486\tvalid_0's gini: 0.313311\n",
            "[100]\ttraining's binary_logloss: 0.15044\ttraining's gini: 0.315409\tvalid_0's binary_logloss: 0.150357\tvalid_0's gini: 0.315114\n",
            "Did not meet early stopping. Best iteration is:\n",
            "[100]\ttraining's binary_logloss: 0.15044\ttraining's gini: 0.315409\tvalid_0's binary_logloss: 0.150357\tvalid_0's gini: 0.315114\n",
            "Training until validation scores don't improve for 50 rounds.\n",
            "[25]\ttraining's binary_logloss: 0.151968\ttraining's gini: 0.282138\tvalid_0's binary_logloss: 0.152262\tvalid_0's gini: 0.26684\n",
            "[50]\ttraining's binary_logloss: 0.151122\ttraining's gini: 0.299169\tvalid_0's binary_logloss: 0.151629\tvalid_0's gini: 0.278792\n",
            "[75]\ttraining's binary_logloss: 0.150655\ttraining's gini: 0.310104\tvalid_0's binary_logloss: 0.15143\tvalid_0's gini: 0.283248\n",
            "[100]\ttraining's binary_logloss: 0.150336\ttraining's gini: 0.318084\tvalid_0's binary_logloss: 0.151374\tvalid_0's gini: 0.284486\n",
            "Did not meet early stopping. Best iteration is:\n",
            "[100]\ttraining's binary_logloss: 0.150336\ttraining's gini: 0.318084\tvalid_0's binary_logloss: 0.151374\tvalid_0's gini: 0.284486\n",
            "Training until validation scores don't improve for 50 rounds.\n",
            "[25]\ttraining's binary_logloss: 0.152002\ttraining's gini: 0.280475\tvalid_0's binary_logloss: 0.152236\tvalid_0's gini: 0.26995\n",
            "[50]\ttraining's binary_logloss: 0.151147\ttraining's gini: 0.297751\tvalid_0's binary_logloss: 0.151694\tvalid_0's gini: 0.278914\n",
            "[75]\ttraining's binary_logloss: 0.150679\ttraining's gini: 0.309052\tvalid_0's binary_logloss: 0.151517\tvalid_0's gini: 0.284137\n",
            "[100]\ttraining's binary_logloss: 0.150367\ttraining's gini: 0.316932\tvalid_0's binary_logloss: 0.151463\tvalid_0's gini: 0.285869\n",
            "Did not meet early stopping. Best iteration is:\n",
            "[100]\ttraining's binary_logloss: 0.150367\ttraining's gini: 0.316932\tvalid_0's binary_logloss: 0.151463\tvalid_0's gini: 0.285869\n",
            "Training until validation scores don't improve for 50 rounds.\n",
            "[25]\ttraining's binary_logloss: 0.151955\ttraining's gini: 0.281663\tvalid_0's binary_logloss: 0.152702\tvalid_0's gini: 0.248263\n",
            "[50]\ttraining's binary_logloss: 0.151107\ttraining's gini: 0.298566\tvalid_0's binary_logloss: 0.152359\tvalid_0's gini: 0.256551\n",
            "[75]\ttraining's binary_logloss: 0.150655\ttraining's gini: 0.309527\tvalid_0's binary_logloss: 0.152245\tvalid_0's gini: 0.26019\n",
            "[100]\ttraining's binary_logloss: 0.150337\ttraining's gini: 0.31708\tvalid_0's binary_logloss: 0.152155\tvalid_0's gini: 0.263266\n",
            "Did not meet early stopping. Best iteration is:\n",
            "[100]\ttraining's binary_logloss: 0.150337\ttraining's gini: 0.31708\tvalid_0's binary_logloss: 0.152155\tvalid_0's gini: 0.263266\n",
            "Training until validation scores don't improve for 50 rounds.\n",
            "[25]\ttraining's binary_logloss: 0.151954\ttraining's gini: 0.282529\tvalid_0's binary_logloss: 0.152131\tvalid_0's gini: 0.26942\n",
            "[50]\ttraining's binary_logloss: 0.151121\ttraining's gini: 0.29945\tvalid_0's binary_logloss: 0.151604\tvalid_0's gini: 0.277017\n",
            "[75]\ttraining's binary_logloss: 0.150656\ttraining's gini: 0.310655\tvalid_0's binary_logloss: 0.151423\tvalid_0's gini: 0.280899\n",
            "[100]\ttraining's binary_logloss: 0.150359\ttraining's gini: 0.317903\tvalid_0's binary_logloss: 0.15137\tvalid_0's gini: 0.281582\n",
            "Did not meet early stopping. Best iteration is:\n",
            "[100]\ttraining's binary_logloss: 0.150359\ttraining's gini: 0.317903\tvalid_0's binary_logloss: 0.15137\tvalid_0's gini: 0.281582\n",
            "Training until validation scores don't improve for 50 rounds.\n",
            "[25]\ttraining's binary_logloss: 0.151931\ttraining's gini: 0.282595\tvalid_0's binary_logloss: 0.153236\tvalid_0's gini: 0.233269\n",
            "[50]\ttraining's binary_logloss: 0.151064\ttraining's gini: 0.299897\tvalid_0's binary_logloss: 0.152926\tvalid_0's gini: 0.243434\n",
            "[75]\ttraining's binary_logloss: 0.150606\ttraining's gini: 0.311062\tvalid_0's binary_logloss: 0.152745\tvalid_0's gini: 0.250199\n",
            "[100]\ttraining's binary_logloss: 0.150278\ttraining's gini: 0.319101\tvalid_0's binary_logloss: 0.152786\tvalid_0's gini: 0.248769\n",
            "Did not meet early stopping. Best iteration is:\n",
            "[100]\ttraining's binary_logloss: 0.150278\ttraining's gini: 0.319101\tvalid_0's binary_logloss: 0.152786\tvalid_0's gini: 0.248769\n",
            "Training until validation scores don't improve for 50 rounds.\n",
            "[25]\ttraining's binary_logloss: 0.152004\ttraining's gini: 0.280227\tvalid_0's binary_logloss: 0.152065\tvalid_0's gini: 0.280625\n",
            "[50]\ttraining's binary_logloss: 0.151163\ttraining's gini: 0.297837\tvalid_0's binary_logloss: 0.151373\tvalid_0's gini: 0.29267\n",
            "[75]\ttraining's binary_logloss: 0.150702\ttraining's gini: 0.309059\tvalid_0's binary_logloss: 0.151079\tvalid_0's gini: 0.299772\n",
            "[100]\ttraining's binary_logloss: 0.150394\ttraining's gini: 0.316349\tvalid_0's binary_logloss: 0.150973\tvalid_0's gini: 0.303001\n",
            "Did not meet early stopping. Best iteration is:\n",
            "[100]\ttraining's binary_logloss: 0.150394\ttraining's gini: 0.316349\tvalid_0's binary_logloss: 0.150973\tvalid_0's gini: 0.303001\n",
            "Training until validation scores don't improve for 50 rounds.\n",
            "[25]\ttraining's binary_logloss: 0.151941\ttraining's gini: 0.281987\tvalid_0's binary_logloss: 0.152471\tvalid_0's gini: 0.266756\n",
            "[50]\ttraining's binary_logloss: 0.151103\ttraining's gini: 0.298665\tvalid_0's binary_logloss: 0.152026\tvalid_0's gini: 0.274032\n",
            "[75]\ttraining's binary_logloss: 0.150654\ttraining's gini: 0.309571\tvalid_0's binary_logloss: 0.151834\tvalid_0's gini: 0.279148\n",
            "[100]\ttraining's binary_logloss: 0.150322\ttraining's gini: 0.317508\tvalid_0's binary_logloss: 0.151776\tvalid_0's gini: 0.281365\n",
            "Did not meet early stopping. Best iteration is:\n",
            "[100]\ttraining's binary_logloss: 0.150322\ttraining's gini: 0.317508\tvalid_0's binary_logloss: 0.151776\tvalid_0's gini: 0.281365\n"
          ]
        }
      ]
    },
    {
      "cell_type": "code",
      "source": [
        "filename = '/content/final_model.sav'\n",
        "pickle.dump(mdl, open(filename, 'wb'))\n"
      ],
      "metadata": {
        "id": "nFEy8bZ57Hwa"
      },
      "execution_count": null,
      "outputs": []
    },
    {
      "cell_type": "code",
      "source": [
        "Final_Model1= pickle.load(open('/content/final_model.sav', 'rb'))"
      ],
      "metadata": {
        "id": "1Z56WprfNiH4"
      },
      "execution_count": null,
      "outputs": []
    },
    {
      "cell_type": "markdown",
      "source": [
        " **4.1 Normalized Gini Score on Test Data using Final Model :**"
      ],
      "metadata": {
        "id": "LfE2BKu86cA8"
      }
    },
    {
      "cell_type": "code",
      "source": [
        "print('Normalised Gini Score on test data is :',gini_normalized(y_test, Final_Model1.predict(X_test)))"
      ],
      "metadata": {
        "colab": {
          "base_uri": "https://localhost:8080/"
        },
        "id": "7b7IrthuA4sb",
        "outputId": "0082ae80-84a6-4a96-838f-6e3f89f47fb9"
      },
      "execution_count": null,
      "outputs": [
        {
          "output_type": "stream",
          "name": "stdout",
          "text": [
            "Normalised Gini Score on test data is : 0.28814136127164397\n"
          ]
        }
      ]
    },
    {
      "cell_type": "markdown",
      "source": [
        " **4.2 F1 Score Calculation :**"
      ],
      "metadata": {
        "id": "eu-pcTIjmeoh"
      }
    },
    {
      "cell_type": "code",
      "source": [
        "from sklearn import metrics\n",
        "import numpy as np\n",
        "import matplotlib.pyplot as plt\n",
        "fpr, tpr, thresholds = metrics.roc_curve(y_test, mdl.predict(X_test), pos_label=1)\n",
        "f = plt.figure(figsize=(20,5))\n",
        "plt.plot(thresholds,fpr,label='FPR')\n",
        "plt.plot(thresholds,tpr,label='TPR')\n",
        "plt.xlabel('Thresholds')\n",
        "plt.ylabel('fpr & tpr')\n",
        "plt.xlabel\n",
        "plt.legend()\n",
        "plt.grid()\n"
      ],
      "metadata": {
        "colab": {
          "base_uri": "https://localhost:8080/",
          "height": 334
        },
        "id": "z4mP4sGG2jDW",
        "outputId": "674ce638-240e-4238-c1a6-2ae3416b0508"
      },
      "execution_count": null,
      "outputs": [
        {
          "output_type": "display_data",
          "data": {
            "text/plain": [
              "<Figure size 1440x360 with 1 Axes>"
            ],
            "image/png": "[encoded data removed]"
          },
          "metadata": {
            "needs_background": "light"
          }
        }
      ]
    },
    {
      "cell_type": "code",
      "source": [
        "y_pred=[]\n",
        "for i in mdl.predict(X_test):\n",
        "    if i >= 0.07:\n",
        "        y_pred.append(1)\n",
        "    else:\n",
        "        y_pred.append(0)\n"
      ],
      "metadata": {
        "id": "aixrQja36OZN"
      },
      "execution_count": null,
      "outputs": []
    },
    {
      "cell_type": "code",
      "source": [
        "print('Normalised Gini Score on test data(LGBM) is :',gini_normalized(y_test,mdl.predict(X_test)))\n",
        "print('F1 Score on test data(LGBM) is :',(f1_score(y_test, y_pred)))"
      ],
      "metadata": {
        "colab": {
          "base_uri": "https://localhost:8080/"
        },
        "id": "ymf5JcVY6VTI",
        "outputId": "a27861d8-1627-44d5-a14c-f5b8a6f7bf05"
      },
      "execution_count": null,
      "outputs": [
        {
          "output_type": "stream",
          "name": "stdout",
          "text": [
            "Normalised Gini Score on test data(LGBM) is : 0.28814136127164397\n",
            "F1 Score on test data(LGBM) is : 0.11317747077577045\n"
          ]
        }
      ]
    },
    {
      "cell_type": "code",
      "source": [
        "df_cm = pd.DataFrame(confusion_matrix(y_test, y_pred))\n",
        "ax= plt.subplot()\n",
        "sn.heatmap(df_cm, annot=True, fmt='g', ax=ax);  \n",
        "ax.set_xlabel('Predicted labels');ax.set_ylabel('True labels'); \n",
        "ax.set_title('Confusion Matrix'); \n"
      ],
      "metadata": {
        "colab": {
          "base_uri": "https://localhost:8080/",
          "height": 295
        },
        "id": "xHyWozKL7v74",
        "outputId": "e387f967-cfc2-4cc3-8a07-3a8ef141966b"
      },
      "execution_count": null,
      "outputs": [
        {
          "output_type": "display_data",
          "data": {
            "text/plain": [
              "<Figure size 432x288 with 2 Axes>"
            ],
            "image/png": "[encoded data removed]"
          },
          "metadata": {
            "needs_background": "light"
          }
        }
      ]
    },
    {
      "cell_type": "markdown",
      "source": [
        "**4.3 OBSERVATIONS:**\n",
        "\n",
        "\n",
        "*   The Data set is highly imbalance so TP is less\n",
        "*   In this problem FN should be less as company should be informed on customers who are going to claim for insurance."
      ],
      "metadata": {
        "id": "xAGGoiv_mzNP"
      }
    },
    {
      "cell_type": "markdown",
      "source": [
        "## **5.Training on whole data set for Final Submission :**"
      ],
      "metadata": {
        "id": "XeE3L_xhoAcV"
      }
    },
    {
      "cell_type": "code",
      "source": [
        "sss = StratifiedKFold(n_splits = 20, shuffle = True, random_state=19)\n",
        "for train_index, valid_index in sss.split(X_Train_Final,Y):\n",
        "  x_tr, x_valid = X_Train_Final.iloc[train_index], X_Train_Final.iloc[valid_index]\n",
        "  y_tr, y_valid = pd.DataFrame(Y).iloc[train_index], pd.DataFrame(Y).iloc[valid_index]\n",
        "  lgb_train = lgb.Dataset(x_tr, label=y_tr)\n",
        "  lgb_eval = lgb.Dataset(x_valid, label=y_valid)\n",
        "  mdl = lgb.train(param,lgb_train,valid_sets=[lgb_eval,lgb_train],verbose_eval=25, feval=gini_lgb,early_stopping_rounds=50)"
      ],
      "metadata": {
        "colab": {
          "base_uri": "https://localhost:8080/"
        },
        "id": "X5mV71KPeacs",
        "outputId": "af01476a-fe13-43a1-f780-4332b30d5703"
      },
      "execution_count": null,
      "outputs": [
        {
          "output_type": "stream",
          "name": "stdout",
          "text": [
            "Training until validation scores don't improve for 50 rounds.\n",
            "[25]\ttraining's binary_logloss: 0.1523\ttraining's gini: 0.279148\tvalid_0's binary_logloss: 0.152876\tvalid_0's gini: 0.253917\n",
            "[50]\ttraining's binary_logloss: 0.151461\ttraining's gini: 0.296716\tvalid_0's binary_logloss: 0.152388\tvalid_0's gini: 0.26588\n",
            "[75]\ttraining's binary_logloss: 0.151054\ttraining's gini: 0.306177\tvalid_0's binary_logloss: 0.152202\tvalid_0's gini: 0.271712\n",
            "[100]\ttraining's binary_logloss: 0.150768\ttraining's gini: 0.313069\tvalid_0's binary_logloss: 0.152136\tvalid_0's gini: 0.273848\n",
            "Did not meet early stopping. Best iteration is:\n",
            "[100]\ttraining's binary_logloss: 0.150768\ttraining's gini: 0.313069\tvalid_0's binary_logloss: 0.152136\tvalid_0's gini: 0.273848\n",
            "Training until validation scores don't improve for 50 rounds.\n",
            "[25]\ttraining's binary_logloss: 0.152282\ttraining's gini: 0.279851\tvalid_0's binary_logloss: 0.152784\tvalid_0's gini: 0.249883\n",
            "[50]\ttraining's binary_logloss: 0.151461\ttraining's gini: 0.297048\tvalid_0's binary_logloss: 0.152173\tvalid_0's gini: 0.266526\n",
            "[75]\ttraining's binary_logloss: 0.151042\ttraining's gini: 0.306676\tvalid_0's binary_logloss: 0.151929\tvalid_0's gini: 0.274367\n",
            "[100]\ttraining's binary_logloss: 0.150767\ttraining's gini: 0.313521\tvalid_0's binary_logloss: 0.151825\tvalid_0's gini: 0.277448\n",
            "Did not meet early stopping. Best iteration is:\n",
            "[100]\ttraining's binary_logloss: 0.150767\ttraining's gini: 0.313521\tvalid_0's binary_logloss: 0.151825\tvalid_0's gini: 0.277448\n",
            "Training until validation scores don't improve for 50 rounds.\n",
            "[25]\ttraining's binary_logloss: 0.152272\ttraining's gini: 0.279999\tvalid_0's binary_logloss: 0.152604\tvalid_0's gini: 0.267557\n",
            "[50]\ttraining's binary_logloss: 0.151432\ttraining's gini: 0.29711\tvalid_0's binary_logloss: 0.152181\tvalid_0's gini: 0.27588\n",
            "[75]\ttraining's binary_logloss: 0.151019\ttraining's gini: 0.306721\tvalid_0's binary_logloss: 0.151995\tvalid_0's gini: 0.281565\n",
            "[100]\ttraining's binary_logloss: 0.150736\ttraining's gini: 0.313556\tvalid_0's binary_logloss: 0.151899\tvalid_0's gini: 0.284747\n",
            "Did not meet early stopping. Best iteration is:\n",
            "[100]\ttraining's binary_logloss: 0.150736\ttraining's gini: 0.313556\tvalid_0's binary_logloss: 0.151899\tvalid_0's gini: 0.284747\n",
            "Training until validation scores don't improve for 50 rounds.\n",
            "[25]\ttraining's binary_logloss: 0.152258\ttraining's gini: 0.279735\tvalid_0's binary_logloss: 0.153118\tvalid_0's gini: 0.250214\n",
            "[50]\ttraining's binary_logloss: 0.151427\ttraining's gini: 0.297622\tvalid_0's binary_logloss: 0.152533\tvalid_0's gini: 0.265349\n",
            "[75]\ttraining's binary_logloss: 0.151015\ttraining's gini: 0.306993\tvalid_0's binary_logloss: 0.152397\tvalid_0's gini: 0.268527\n",
            "[100]\ttraining's binary_logloss: 0.150743\ttraining's gini: 0.313559\tvalid_0's binary_logloss: 0.152336\tvalid_0's gini: 0.270125\n",
            "Did not meet early stopping. Best iteration is:\n",
            "[100]\ttraining's binary_logloss: 0.150743\ttraining's gini: 0.313559\tvalid_0's binary_logloss: 0.152336\tvalid_0's gini: 0.270125\n",
            "Training until validation scores don't improve for 50 rounds.\n",
            "[25]\ttraining's binary_logloss: 0.152315\ttraining's gini: 0.278624\tvalid_0's binary_logloss: 0.152481\tvalid_0's gini: 0.2756\n",
            "[50]\ttraining's binary_logloss: 0.151477\ttraining's gini: 0.296045\tvalid_0's binary_logloss: 0.151762\tvalid_0's gini: 0.291655\n",
            "[75]\ttraining's binary_logloss: 0.151074\ttraining's gini: 0.305564\tvalid_0's binary_logloss: 0.151561\tvalid_0's gini: 0.296254\n",
            "[100]\ttraining's binary_logloss: 0.150797\ttraining's gini: 0.31231\tvalid_0's binary_logloss: 0.151432\tvalid_0's gini: 0.299093\n",
            "Did not meet early stopping. Best iteration is:\n",
            "[100]\ttraining's binary_logloss: 0.150797\ttraining's gini: 0.31231\tvalid_0's binary_logloss: 0.151432\tvalid_0's gini: 0.299093\n",
            "Training until validation scores don't improve for 50 rounds.\n",
            "[25]\ttraining's binary_logloss: 0.152226\ttraining's gini: 0.281604\tvalid_0's binary_logloss: 0.152859\tvalid_0's gini: 0.266612\n",
            "[50]\ttraining's binary_logloss: 0.1514\ttraining's gini: 0.298439\tvalid_0's binary_logloss: 0.152473\tvalid_0's gini: 0.272533\n",
            "[75]\ttraining's binary_logloss: 0.150979\ttraining's gini: 0.308266\tvalid_0's binary_logloss: 0.152376\tvalid_0's gini: 0.274172\n",
            "[100]\ttraining's binary_logloss: 0.150697\ttraining's gini: 0.314943\tvalid_0's binary_logloss: 0.152331\tvalid_0's gini: 0.273568\n",
            "Did not meet early stopping. Best iteration is:\n",
            "[100]\ttraining's binary_logloss: 0.150697\ttraining's gini: 0.314943\tvalid_0's binary_logloss: 0.152331\tvalid_0's gini: 0.273568\n",
            "Training until validation scores don't improve for 50 rounds.\n",
            "[25]\ttraining's binary_logloss: 0.152251\ttraining's gini: 0.280059\tvalid_0's binary_logloss: 0.152602\tvalid_0's gini: 0.268553\n",
            "[50]\ttraining's binary_logloss: 0.151455\ttraining's gini: 0.296498\tvalid_0's binary_logloss: 0.152055\tvalid_0's gini: 0.27887\n",
            "[75]\ttraining's binary_logloss: 0.151052\ttraining's gini: 0.305811\tvalid_0's binary_logloss: 0.151879\tvalid_0's gini: 0.283531\n",
            "[100]\ttraining's binary_logloss: 0.150781\ttraining's gini: 0.31247\tvalid_0's binary_logloss: 0.151781\tvalid_0's gini: 0.285621\n",
            "Did not meet early stopping. Best iteration is:\n",
            "[100]\ttraining's binary_logloss: 0.150781\ttraining's gini: 0.31247\tvalid_0's binary_logloss: 0.151781\tvalid_0's gini: 0.285621\n",
            "Training until validation scores don't improve for 50 rounds.\n",
            "[25]\ttraining's binary_logloss: 0.152254\ttraining's gini: 0.280191\tvalid_0's binary_logloss: 0.152814\tvalid_0's gini: 0.261248\n",
            "[50]\ttraining's binary_logloss: 0.151438\ttraining's gini: 0.297091\tvalid_0's binary_logloss: 0.152311\tvalid_0's gini: 0.269643\n",
            "[75]\ttraining's binary_logloss: 0.151013\ttraining's gini: 0.307325\tvalid_0's binary_logloss: 0.152159\tvalid_0's gini: 0.27384\n",
            "[100]\ttraining's binary_logloss: 0.150739\ttraining's gini: 0.313854\tvalid_0's binary_logloss: 0.152106\tvalid_0's gini: 0.275446\n",
            "Did not meet early stopping. Best iteration is:\n",
            "[100]\ttraining's binary_logloss: 0.150739\ttraining's gini: 0.313854\tvalid_0's binary_logloss: 0.152106\tvalid_0's gini: 0.275446\n",
            "Training until validation scores don't improve for 50 rounds.\n",
            "[25]\ttraining's binary_logloss: 0.152253\ttraining's gini: 0.280112\tvalid_0's binary_logloss: 0.15287\tvalid_0's gini: 0.25888\n",
            "[50]\ttraining's binary_logloss: 0.151419\ttraining's gini: 0.297426\tvalid_0's binary_logloss: 0.1525\tvalid_0's gini: 0.264436\n",
            "[75]\ttraining's binary_logloss: 0.150992\ttraining's gini: 0.307252\tvalid_0's binary_logloss: 0.15238\tvalid_0's gini: 0.267525\n",
            "[100]\ttraining's binary_logloss: 0.150706\ttraining's gini: 0.314205\tvalid_0's binary_logloss: 0.15236\tvalid_0's gini: 0.268091\n",
            "Did not meet early stopping. Best iteration is:\n",
            "[100]\ttraining's binary_logloss: 0.150706\ttraining's gini: 0.314205\tvalid_0's binary_logloss: 0.15236\tvalid_0's gini: 0.268091\n",
            "Training until validation scores don't improve for 50 rounds.\n",
            "[25]\ttraining's binary_logloss: 0.152266\ttraining's gini: 0.279683\tvalid_0's binary_logloss: 0.152741\tvalid_0's gini: 0.267071\n",
            "[50]\ttraining's binary_logloss: 0.15145\ttraining's gini: 0.296512\tvalid_0's binary_logloss: 0.152126\tvalid_0's gini: 0.279986\n",
            "[75]\ttraining's binary_logloss: 0.151035\ttraining's gini: 0.306275\tvalid_0's binary_logloss: 0.15186\tvalid_0's gini: 0.287796\n",
            "[100]\ttraining's binary_logloss: 0.150761\ttraining's gini: 0.31301\tvalid_0's binary_logloss: 0.15177\tvalid_0's gini: 0.290085\n",
            "Did not meet early stopping. Best iteration is:\n",
            "[100]\ttraining's binary_logloss: 0.150761\ttraining's gini: 0.31301\tvalid_0's binary_logloss: 0.15177\tvalid_0's gini: 0.290085\n",
            "Training until validation scores don't improve for 50 rounds.\n",
            "[25]\ttraining's binary_logloss: 0.15225\ttraining's gini: 0.280728\tvalid_0's binary_logloss: 0.152597\tvalid_0's gini: 0.27006\n",
            "[50]\ttraining's binary_logloss: 0.151419\ttraining's gini: 0.29775\tvalid_0's binary_logloss: 0.152143\tvalid_0's gini: 0.277808\n",
            "[75]\ttraining's binary_logloss: 0.151012\ttraining's gini: 0.306683\tvalid_0's binary_logloss: 0.151925\tvalid_0's gini: 0.282304\n",
            "[100]\ttraining's binary_logloss: 0.150742\ttraining's gini: 0.313431\tvalid_0's binary_logloss: 0.151857\tvalid_0's gini: 0.284039\n",
            "Did not meet early stopping. Best iteration is:\n",
            "[100]\ttraining's binary_logloss: 0.150742\ttraining's gini: 0.313431\tvalid_0's binary_logloss: 0.151857\tvalid_0's gini: 0.284039\n",
            "Training until validation scores don't improve for 50 rounds.\n",
            "[25]\ttraining's binary_logloss: 0.152281\ttraining's gini: 0.278827\tvalid_0's binary_logloss: 0.152625\tvalid_0's gini: 0.277877\n",
            "[50]\ttraining's binary_logloss: 0.151439\ttraining's gini: 0.296879\tvalid_0's binary_logloss: 0.152022\tvalid_0's gini: 0.290876\n",
            "[75]\ttraining's binary_logloss: 0.151028\ttraining's gini: 0.306208\tvalid_0's binary_logloss: 0.151808\tvalid_0's gini: 0.296651\n",
            "[100]\ttraining's binary_logloss: 0.150764\ttraining's gini: 0.312751\tvalid_0's binary_logloss: 0.151736\tvalid_0's gini: 0.297159\n",
            "Did not meet early stopping. Best iteration is:\n",
            "[100]\ttraining's binary_logloss: 0.150764\ttraining's gini: 0.312751\tvalid_0's binary_logloss: 0.151736\tvalid_0's gini: 0.297159\n",
            "Training until validation scores don't improve for 50 rounds.\n",
            "[25]\ttraining's binary_logloss: 0.152364\ttraining's gini: 0.277212\tvalid_0's binary_logloss: 0.151458\tvalid_0's gini: 0.30607\n",
            "[50]\ttraining's binary_logloss: 0.15156\ttraining's gini: 0.294329\tvalid_0's binary_logloss: 0.150716\tvalid_0's gini: 0.313769\n",
            "[75]\ttraining's binary_logloss: 0.151132\ttraining's gini: 0.30442\tvalid_0's binary_logloss: 0.150461\tvalid_0's gini: 0.316258\n",
            "[100]\ttraining's binary_logloss: 0.150847\ttraining's gini: 0.311413\tvalid_0's binary_logloss: 0.150387\tvalid_0's gini: 0.316168\n",
            "Did not meet early stopping. Best iteration is:\n",
            "[100]\ttraining's binary_logloss: 0.150847\ttraining's gini: 0.311413\tvalid_0's binary_logloss: 0.150387\tvalid_0's gini: 0.316168\n",
            "Training until validation scores don't improve for 50 rounds.\n",
            "[25]\ttraining's binary_logloss: 0.152226\ttraining's gini: 0.281331\tvalid_0's binary_logloss: 0.153025\tvalid_0's gini: 0.246338\n",
            "[50]\ttraining's binary_logloss: 0.151428\ttraining's gini: 0.2974\tvalid_0's binary_logloss: 0.152674\tvalid_0's gini: 0.254604\n",
            "[75]\ttraining's binary_logloss: 0.151012\ttraining's gini: 0.307082\tvalid_0's binary_logloss: 0.152474\tvalid_0's gini: 0.26253\n",
            "[100]\ttraining's binary_logloss: 0.150732\ttraining's gini: 0.313785\tvalid_0's binary_logloss: 0.152367\tvalid_0's gini: 0.266077\n",
            "Did not meet early stopping. Best iteration is:\n",
            "[100]\ttraining's binary_logloss: 0.150732\ttraining's gini: 0.313785\tvalid_0's binary_logloss: 0.152367\tvalid_0's gini: 0.266077\n",
            "Training until validation scores don't improve for 50 rounds.\n",
            "[25]\ttraining's binary_logloss: 0.15224\ttraining's gini: 0.281059\tvalid_0's binary_logloss: 0.15281\tvalid_0's gini: 0.255474\n",
            "[50]\ttraining's binary_logloss: 0.151451\ttraining's gini: 0.297014\tvalid_0's binary_logloss: 0.152311\tvalid_0's gini: 0.266986\n",
            "[75]\ttraining's binary_logloss: 0.151019\ttraining's gini: 0.306986\tvalid_0's binary_logloss: 0.152102\tvalid_0's gini: 0.272426\n",
            "[100]\ttraining's binary_logloss: 0.150741\ttraining's gini: 0.313729\tvalid_0's binary_logloss: 0.152028\tvalid_0's gini: 0.274516\n",
            "Did not meet early stopping. Best iteration is:\n",
            "[100]\ttraining's binary_logloss: 0.150741\ttraining's gini: 0.313729\tvalid_0's binary_logloss: 0.152028\tvalid_0's gini: 0.274516\n",
            "Training until validation scores don't improve for 50 rounds.\n",
            "[25]\ttraining's binary_logloss: 0.152243\ttraining's gini: 0.28093\tvalid_0's binary_logloss: 0.153013\tvalid_0's gini: 0.243613\n",
            "[50]\ttraining's binary_logloss: 0.151429\ttraining's gini: 0.297998\tvalid_0's binary_logloss: 0.152357\tvalid_0's gini: 0.260616\n",
            "[75]\ttraining's binary_logloss: 0.151024\ttraining's gini: 0.307106\tvalid_0's binary_logloss: 0.152097\tvalid_0's gini: 0.268018\n",
            "[100]\ttraining's binary_logloss: 0.150741\ttraining's gini: 0.314276\tvalid_0's binary_logloss: 0.151995\tvalid_0's gini: 0.271587\n",
            "Did not meet early stopping. Best iteration is:\n",
            "[100]\ttraining's binary_logloss: 0.150741\ttraining's gini: 0.314276\tvalid_0's binary_logloss: 0.151995\tvalid_0's gini: 0.271587\n",
            "Training until validation scores don't improve for 50 rounds.\n",
            "[25]\ttraining's binary_logloss: 0.152218\ttraining's gini: 0.282357\tvalid_0's binary_logloss: 0.153309\tvalid_0's gini: 0.237138\n",
            "[50]\ttraining's binary_logloss: 0.151425\ttraining's gini: 0.297954\tvalid_0's binary_logloss: 0.152825\tvalid_0's gini: 0.251966\n",
            "[75]\ttraining's binary_logloss: 0.151026\ttraining's gini: 0.307168\tvalid_0's binary_logloss: 0.15259\tvalid_0's gini: 0.258457\n",
            "[100]\ttraining's binary_logloss: 0.150752\ttraining's gini: 0.313889\tvalid_0's binary_logloss: 0.152449\tvalid_0's gini: 0.262627\n",
            "Did not meet early stopping. Best iteration is:\n",
            "[100]\ttraining's binary_logloss: 0.150752\ttraining's gini: 0.313889\tvalid_0's binary_logloss: 0.152449\tvalid_0's gini: 0.262627\n",
            "Training until validation scores don't improve for 50 rounds.\n",
            "[25]\ttraining's binary_logloss: 0.152294\ttraining's gini: 0.27896\tvalid_0's binary_logloss: 0.151894\tvalid_0's gini: 0.295486\n",
            "[50]\ttraining's binary_logloss: 0.15148\ttraining's gini: 0.296075\tvalid_0's binary_logloss: 0.151293\tvalid_0's gini: 0.302641\n",
            "[75]\ttraining's binary_logloss: 0.151054\ttraining's gini: 0.306161\tvalid_0's binary_logloss: 0.151105\tvalid_0's gini: 0.305102\n",
            "[100]\ttraining's binary_logloss: 0.150774\ttraining's gini: 0.312773\tvalid_0's binary_logloss: 0.151085\tvalid_0's gini: 0.303992\n",
            "Did not meet early stopping. Best iteration is:\n",
            "[100]\ttraining's binary_logloss: 0.150774\ttraining's gini: 0.312773\tvalid_0's binary_logloss: 0.151085\tvalid_0's gini: 0.303992\n",
            "Training until validation scores don't improve for 50 rounds.\n",
            "[25]\ttraining's binary_logloss: 0.152305\ttraining's gini: 0.279412\tvalid_0's binary_logloss: 0.152557\tvalid_0's gini: 0.258522\n",
            "[50]\ttraining's binary_logloss: 0.151479\ttraining's gini: 0.297202\tvalid_0's binary_logloss: 0.151867\tvalid_0's gini: 0.271251\n",
            "[75]\ttraining's binary_logloss: 0.15106\ttraining's gini: 0.307162\tvalid_0's binary_logloss: 0.151727\tvalid_0's gini: 0.273179\n",
            "[100]\ttraining's binary_logloss: 0.150754\ttraining's gini: 0.314726\tvalid_0's binary_logloss: 0.151637\tvalid_0's gini: 0.27477\n",
            "Did not meet early stopping. Best iteration is:\n",
            "[100]\ttraining's binary_logloss: 0.150754\ttraining's gini: 0.314726\tvalid_0's binary_logloss: 0.151637\tvalid_0's gini: 0.27477\n",
            "Training until validation scores don't improve for 50 rounds.\n",
            "[25]\ttraining's binary_logloss: 0.152313\ttraining's gini: 0.278402\tvalid_0's binary_logloss: 0.152119\tvalid_0's gini: 0.285292\n",
            "[50]\ttraining's binary_logloss: 0.151519\ttraining's gini: 0.295076\tvalid_0's binary_logloss: 0.151243\tvalid_0's gini: 0.30166\n",
            "[75]\ttraining's binary_logloss: 0.151092\ttraining's gini: 0.305377\tvalid_0's binary_logloss: 0.151037\tvalid_0's gini: 0.304543\n",
            "[100]\ttraining's binary_logloss: 0.150816\ttraining's gini: 0.312375\tvalid_0's binary_logloss: 0.150946\tvalid_0's gini: 0.305667\n",
            "Did not meet early stopping. Best iteration is:\n",
            "[100]\ttraining's binary_logloss: 0.150816\ttraining's gini: 0.312375\tvalid_0's binary_logloss: 0.150946\tvalid_0's gini: 0.305667\n"
          ]
        }
      ]
    },
    {
      "cell_type": "code",
      "source": [
        "X_Test_final=test_data.drop(['id'],axis=1)\n",
        "X_Test_final_with_imp_features=X_Test_final[Final_features]"
      ],
      "metadata": {
        "id": "nkWW-OvcfBO_"
      },
      "execution_count": null,
      "outputs": []
    },
    {
      "cell_type": "code",
      "source": [
        "sub = pd.DataFrame()\n",
        "sub['id'] = test_data['id']\n",
        "sub['target'] = mdl.predict(X_Test_final_with_imp_features)\n",
        "sub.to_csv('final_submit.csv', float_format='%.6f', index=False)"
      ],
      "metadata": {
        "id": "ddYzSV1D8VzC"
      },
      "execution_count": null,
      "outputs": []
    },
    {
      "cell_type": "code",
      "source": [
        "print(pd.read_csv('/content/final_submit.csv').shape)"
      ],
      "metadata": {
        "colab": {
          "base_uri": "https://localhost:8080/"
        },
        "id": "u27wzSXij86U",
        "outputId": "8a4af618-5af7-4b1c-8967-e6f0f90db150"
      },
      "execution_count": null,
      "outputs": [
        {
          "output_type": "stream",
          "name": "stdout",
          "text": [
            "(892816, 2)\n"
          ]
        }
      ]
    },
    {
      "cell_type": "markdown",
      "source": [
        "## **6.Score obtained on Kaggle :**"
      ],
      "metadata": {
        "id": "DR60EomeoQYV"
      }
    },
    {
      "cell_type": "markdown",
      "source": [
        "![image.png](data:image/png;base64,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)"
      ],
      "metadata": {
        "id": "1BHWiaoKmGTA"
      }
    }
  ],
  "metadata": {
    "colab": {
      "provenance": [],
      "include_colab_link": true
    },
    "kernelspec": {
      "display_name": "Python 3",
      "language": "python",
      "name": "python3"
    },
    "language_info": {
      "codemirror_mode": {
        "name": "ipython",
        "version": 3
      },
      "file_extension": ".py",
      "mimetype": "text/x-python",
      "name": "python",
      "nbconvert_exporter": "python",
      "pygments_lexer": "ipython3",
      "version": "3.8.3"
    }
  },
  "nbformat": 4,
  "nbformat_minor": 0
}